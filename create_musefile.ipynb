{
 "cells": [
  {
   "cell_type": "code",
   "execution_count": 94,
   "metadata": {},
   "outputs": [],
   "source": [
    "# Imports necessary for Source Catalog\n",
    "from photutils.background import Background2D, MedianBackground\n",
    "from astropy.convolution import convolve\n",
    "from photutils.segmentation import make_2dgaussian_kernel\n",
    "from photutils.segmentation import detect_sources\n",
    "from photutils.segmentation import deblend_sources\n",
    "from photutils.segmentation import SourceFinder\n",
    "from photutils.segmentation import SourceCatalog\n",
    "from scipy.ndimage import binary_erosion\n",
    "\n",
    "\n",
    "from mpdaf.obj import Cube\n",
    "import matplotlib.pyplot as plt\n",
    "import numpy as np\n",
    "from scipy.interpolate import interp1d\n",
    "from astropy import units as u\n",
    "from numpy import ma\n",
    "import numpy as np\n",
    "from astropy.table import Table, Column, MaskedColumn, pprint\n",
    "from astropy.io import fits\n",
    "from astropy.wcs import WCS\n",
    "from mpdaf.obj import Image\n",
    "from scipy import integrate"
   ]
  },
  {
   "cell_type": "code",
   "execution_count": 95,
   "metadata": {},
   "outputs": [],
   "source": [
    "def bandpass_image(self, wavelengths, sensitivities, unit_wave=u.angstrom,\n",
    "                       interpolation=\"linear\"):\n",
    "        \"\"\"\n",
    "        bandpass_image sums the images of a cube after multiplying the cube by a given spectral bandpass curve.\n",
    "        \n",
    "        \n",
    "        Given a cube of images versus wavelength and the bandpass\n",
    "        filter-curve of a wide-band monochromatic instrument, extract\n",
    "        an image from the cube that has the spectral response of the\n",
    "        monochromatic instrument.\n",
    "\n",
    "        For example, this can be used to create a MUSE image that has\n",
    "        the same spectral characteristics as an HST image. The MUSE\n",
    "        image can then be compared to the HST image without having to\n",
    "        worry about any differences caused by different spectral\n",
    "        sensitivities.\n",
    "\n",
    "        For each channel n of the cube, the filter-curve is integrated\n",
    "        over the width of that channel to obtain a weight, w[n]. The\n",
    "        output image is then given by the following weighted mean::\n",
    "\n",
    "            output_image = sum(w[n] * cube_image[n]) / sum(w[n])\n",
    "\n",
    "        In practice, to accommodate masked pixels, the w[n] array is\n",
    "        expanded into a cube w[n,y,x], and the weights of individual\n",
    "        masked pixels in the cube are zeroed before the above equation\n",
    "        is applied.\n",
    "\n",
    "        If the wavelength axis of the cube only partly overlaps the\n",
    "        bandpass of the filter-curve, the filter curve is truncated to\n",
    "        fit within the bounds of the wavelength axis. A warning is\n",
    "        printed to stderr if this occurs, because this results in an\n",
    "        image that lacks flux from some of the wavelengths of the\n",
    "        requested bandpass.\n",
    "\n",
    "        Parameters\n",
    "        ----------\n",
    "        wavelengths : numpy.ndarray\n",
    "            An array of the wavelengths of the filter curve,\n",
    "            listed in ascending order of wavelength. Outside\n",
    "            the listed wavelengths the filter-curve is assumed\n",
    "            to be zero.\n",
    "        sensitivities : numpy.ndarray\n",
    "            The relative flux sensitivities at the wavelengths\n",
    "            in the wavelengths array. These sensititivies will be\n",
    "            normalized, so only their relative values are important.\n",
    "        unit_wave : `astropy.units.Unit`\n",
    "            The units used in the array of wavelengths. The default is\n",
    "            angstroms. To specify pixel units, pass None.\n",
    "        interpolation : str\n",
    "            The form of interpolation to use to integrate over the\n",
    "            filter curve. This should be one of::\n",
    "\n",
    "              \"linear\"     : Linear interpolation\n",
    "              \"cubic\"      : Cubic spline interpolation (very slow)\n",
    "\n",
    "            The default is linear interpolation. If the filter curve\n",
    "            is well sampled and its sampling interval is narrower than\n",
    "            the wavelength pixels of the cube, then this should be\n",
    "            sufficient. Alternatively, if the sampling interval is\n",
    "            significantly wider than the wavelength pixels of the\n",
    "            cube, then cubic interpolation should be used instead.\n",
    "            Beware that cubic interpolation is much slower than linear\n",
    "            interpolation.\n",
    "\n",
    "        Returns\n",
    "        -------\n",
    "        `~mpdaf.obj.Image`\n",
    "            An image formed from the filter-weighted mean of channels in\n",
    "            the cube that overlap the bandpass of the filter curve.\n",
    "\n",
    "        \"\"\"\n",
    "        from scipy import integrate\n",
    "\n",
    "        wavelengths = np.asarray(wavelengths, dtype=float)\n",
    "        sensitivities = np.asarray(sensitivities, dtype=float)\n",
    "\n",
    "        if (wavelengths.ndim != 1 or sensitivities.ndim != 1 or\n",
    "                len(wavelengths) != len(sensitivities)):\n",
    "            raise ValueError('The wavelengths and sensititivies arguments'\n",
    "                             ' should be 1D arrays of equal length')\n",
    "\n",
    "        if unit_wave is None:\n",
    "            pixels = wavelengths.copy()\n",
    "        else:\n",
    "            pixels = self.wave.pixel(wavelengths, unit=unit_wave)\n",
    "\n",
    "        # Get the integer indexes of the pixels that contain the above\n",
    "        # floating point pixel indexes.\n",
    "        print(pixels)\n",
    "        indexes = np.rint(pixels).astype(int)\n",
    "        print(indexes)\n",
    "\n",
    "        # If there is no overlap between the bandpass filter curve\n",
    "        # and the wavelength coverage of the cube, complain.\n",
    "        if indexes[0] >= self.shape[0] or indexes[-1] < 0:\n",
    "            raise ValueError(\"The filter curve does not overlap the \"\n",
    "                             \"wavelength coverage of the cube.\")\n",
    "\n",
    "        # To correctly reproduce an image taken through a specified\n",
    "        # filter, the bandpass curve should be completely encompassed\n",
    "        # by the wavelength axis of the cube. If the overlap is\n",
    "        # incomplete, emit a warning, then truncate the bandpass curve\n",
    "        # to the edge of the wavelength range of the cube.\n",
    "        if indexes[0] < 0 or indexes[-1] >= self.shape[0]:\n",
    "\n",
    "            # Work out the start and stop indexes of the slice needed\n",
    "            # to truncate the arrays of the bandpass filter curve.\n",
    "            if indexes[0] < 0:\n",
    "                start = np.searchsorted(indexes, 0, 'left')\n",
    "            else:\n",
    "                start = 0\n",
    "            if indexes[-1] >= self.shape[0]:\n",
    "                stop = np.searchsorted(indexes, self.shape[0], 'left')\n",
    "            else:\n",
    "                stop = indexes.shape[0]\n",
    "\n",
    "            # Integrate the overal bandpass filter curve.\n",
    "            total = integrate.trapz(sensitivities, wavelengths)\n",
    "\n",
    "            # Also integrate over just the truncated parts of the curve.\n",
    "            lost = 0.0\n",
    "            if start > 0:\n",
    "                s = slice(0, start)\n",
    "                lost += integrate.trapz(sensitivities[s], wavelengths[s])\n",
    "            if stop < indexes.shape[0]:\n",
    "                s = slice(stop, indexes.shape[0])\n",
    "                lost += integrate.trapz(sensitivities[s], wavelengths[s])\n",
    "\n",
    "            # Compute the fraction of the integrated bandpass response\n",
    "            # that has been truncated.\n",
    "            lossage = lost / total\n",
    "\n",
    "            # Truncate the bandpass filter curve.\n",
    "            indexes = indexes[start:stop]\n",
    "            pixels = pixels[start:stop]\n",
    "            sensitivities = sensitivities[start:stop]\n",
    "\n",
    "            # Report the loss if it is over 0.5%.\n",
    "            if lossage > 0.005:\n",
    "                self._logger.warning(\n",
    "                    \"%.2g%% of the integrated \" % (lossage * 100.0) +\n",
    "                    \"filter curve is beyond the edges of the cube.\")\n",
    "\n",
    "        # Get the range of indexes along the wavelength axis that\n",
    "        # encompass the filter bandpass within the cube.\n",
    "        kmin = indexes[0]\n",
    "        kmax = indexes[-1]\n",
    "        print('Len(k):', kmax - kmin + 1) \n",
    "        print(start)\n",
    "        print(stop)\n",
    "        print('Subcube k start:', self.wave.coord(kmin))\n",
    "        print('Subcube k stop:', self.wave.coord(kmax)) #  not sure this is actually how it is being used \n",
    "        \n",
    "        \n",
    "\n",
    "\n",
    "        # Obtain an interpolator of the bandpass curve.\n",
    "        spline = interp1d(x=pixels, y=sensitivities,\n",
    "                                      kind=interpolation)\n",
    "\n",
    "        # Integrate the bandpass over the range of each spectral pixel\n",
    "        # to determine the weights of each pixel. For the moment skip\n",
    "        # the first and last pixels, which need special treatment.\n",
    "        # Integer pixel indexes refer to the centers of pixels,\n",
    "        # so for integer pixel index k, we need to integrate from\n",
    "        # k-0.5 to k+0.5.\n",
    "        w = np.empty((kmax + 1 - kmin))\n",
    "        for k in range(kmin + 1, kmax):\n",
    "            w[k - kmin], err = integrate.quad(spline, k - 0.5, k + 0.5)\n",
    "\n",
    "        # Start the integration of the weight of the first channel\n",
    "        # from the lower limit of the bandpass.\n",
    "        w[0], err = integrate.quad(spline, pixels[0], kmin + 0.5)\n",
    "\n",
    "        # End the integration of the weight of the final channel\n",
    "        # at the upper limit of the bandpass.\n",
    "        w[-1], err = integrate.quad(spline, kmax - 0.5, pixels[-1])\n",
    "\n",
    "        # Normalize the weights.\n",
    "        w /= w.sum()\n",
    "\n",
    "        # Create a sub-cube of the selected channels.\n",
    "        subcube = self[kmin:kmax + 1, :, :] \n",
    "\n",
    "        # To accommodate masked pixels, create a cube of the above\n",
    "        # weights, but with masked pixels given zero weight.\n",
    "        if subcube._mask is ma.nomask:\n",
    "            wcube = w[:, np.newaxis, np.newaxis] * np.ones(subcube.shape)\n",
    "        else:\n",
    "            wcube = w[:, np.newaxis, np.newaxis] * ~subcube._mask\n",
    "\n",
    "        # Get an image which is the sum of the weights along the spectral axis.\n",
    "        wsum = wcube.sum(axis=0)\n",
    "\n",
    "        # The output image is the weighted mean of the selected\n",
    "        # channels. For each map pixel perform the following\n",
    "        # calculation over spectral channels, k.\n",
    "        #\n",
    "        #  mean = sum(weights[k] * data[k]) / sum(weights[k]\n",
    "        data = np.ma.sum(subcube.data * wcube, axis=0) / wsum\n",
    "\n",
    "        # The variance of a weighted means is:\n",
    "        #\n",
    "        #  var = sum(weights[k]**2 * var[k]) / (sum(weights[k]))**2\n",
    "        if subcube._var is not None:\n",
    "            var = np.ma.sum(subcube.var * wcube**2, axis=0) / wsum**2\n",
    "        else:\n",
    "            var = False\n",
    "\n",
    "        return Image.new_from_obj(subcube, data=data, var=var)\n"
   ]
  },
  {
   "cell_type": "code",
   "execution_count": 96,
   "metadata": {},
   "outputs": [
    {
     "name": "stderr",
     "output_type": "stream",
     "text": [
      "WARNING: UnitsWarning: '1e-20 erg/s/cm  2/Angstrom' contains multiple slashes, which is discouraged by the FITS standard [astropy.units.format.generic]\n",
      "WARNING: UnitsWarning: '1e-20 erg/s/cm  2/Angstrom' contains multiple slashes, which is discouraged by the FITS standard [astropy.units.format.generic]\n",
      "WARNING: UnitsWarning: '1e-20 erg/s/cm  2/Angstrom' contains multiple slashes, which is discouraged by the FITS standard [astropy.units.format.generic]\n"
     ]
    }
   ],
   "source": [
    "# THESE ARE THE RAW CUBES AS THEY COME\n",
    "\n",
    "# data array is read from the file (extension number 0)\n",
    "cube_26 = Cube(filename='/Users/s2537809/MUSE/cube_26.fits')\n",
    "\n",
    "cube_27 = Cube(filename='/Users/s2537809/MUSE/cube_27.fits')\n",
    "\n",
    "cube_28 = Cube(filename='/Users/s2537809/MUSE/cube_28.fits')\n",
    "\n",
    "# THE HST USED HERE IS THE 606 - WOULD THERE BE A DIFFERENCE \n",
    "# IF WE USED THE 814?\n",
    "\n",
    "with open('HST_ACS_HRC.F814W.dat', 'r') as file:\n",
    "    HST = file.read()\n",
    "\n",
    "\n",
    "# Split the data into lines\n",
    "HST = HST.split('\\n')\n",
    "\n",
    "# Split each line into columns and filter out any lines that don't have 2 columns\n",
    "rows = [row.split() for row in HST if len(row.split()) == 2]\n",
    "\n",
    "HST_table = Table(rows=rows, names=['Wavelength', 'Throughput'])\n",
    "\n",
    "HST_k = np.array(HST_table['Wavelength']).astype(float)\n",
    "HST_w = np.array(HST_table['Throughput']).astype(float)\n",
    "\n"
   ]
  },
  {
   "cell_type": "code",
   "execution_count": 97,
   "metadata": {},
   "outputs": [
    {
     "name": "stderr",
     "output_type": "stream",
     "text": [
      "[WARNING] 5.5% of the integrated filter curve is beyond the edges of the cube.\n"
     ]
    },
    {
     "name": "stdout",
     "output_type": "stream",
     "text": [
      "[1629.33828125 1629.73828125 1630.13828125 ... 4076.53828125 4076.93828125\n",
      " 4077.33828125]\n",
      "[1629 1630 1630 ... 4077 4077 4077]\n",
      "Len(k): 2093\n",
      "0\n",
      "5408\n",
      "Subcube k start: 6736.5771484375\n",
      "Subcube k stop: 9351.5771484375\n"
     ]
    },
    {
     "name": "stderr",
     "output_type": "stream",
     "text": [
      "[WARNING] 5.5% of the integrated filter curve is beyond the edges of the cube.\n"
     ]
    },
    {
     "name": "stdout",
     "output_type": "stream",
     "text": [
      "[1629.25234375 1629.65234375 1630.05234375 ... 4076.45234375 4076.85234375\n",
      " 4077.25234375]\n",
      "[1629 1630 1630 ... 4076 4077 4077]\n",
      "Len(k): 2093\n",
      "0\n",
      "5408\n",
      "Subcube k start: 6736.6845703125\n",
      "Subcube k stop: 9351.6845703125\n"
     ]
    },
    {
     "name": "stderr",
     "output_type": "stream",
     "text": [
      "[WARNING] 5.5% of the integrated filter curve is beyond the edges of the cube.\n"
     ]
    },
    {
     "name": "stdout",
     "output_type": "stream",
     "text": [
      "[1629.25039063 1629.65039062 1630.05039063 ... 4076.45039063 4076.85039063\n",
      " 4077.25039063]\n",
      "[1629 1630 1630 ... 4076 4077 4077]\n",
      "Len(k): 2093\n",
      "0\n",
      "5408\n",
      "Subcube k start: 6736.68701171875\n",
      "Subcube k stop: 9351.68701171875\n"
     ]
    }
   ],
   "source": [
    "# THIS IS PUTTING THE HST BANDPASS ON THE CUBES\n",
    "\n",
    "im26 = bandpass_image(cube_26, HST_table['Wavelength'], HST_table['Throughput'])\n",
    "im27 = bandpass_image(cube_27, HST_table['Wavelength'], HST_table['Throughput']) ## Is the throughput actually good to use for sensitvities \n",
    "im28 = bandpass_image(cube_28, HST_table['Wavelength'], HST_table['Throughput'])\n",
    "\n",
    "\n"
   ]
  },
  {
   "cell_type": "code",
   "execution_count": 98,
   "metadata": {},
   "outputs": [],
   "source": [
    "# Save WCS and image data to FITS function\n",
    "def save_wcs_to_fits(im_data, wcs_object, fits_filename):\n",
    "    hdu = fits.PrimaryHDU(im_data.filled())\n",
    "    hdu.header.extend(wcs_object.to_header(), update=True)\n",
    "    hdu.writeto(fits_filename, overwrite=True)\n",
    "\n",
    "\n",
    "# Example usage for each bandpass cube\n",
    "save_wcs_to_fits(im26.data, im26.wcs, 'im26_wcs_814.fits')\n",
    "save_wcs_to_fits(im27.data, im27.wcs, 'im27_wcs_814.fits')\n",
    "save_wcs_to_fits(im28.data, im28.wcs, 'im28_wcs_814.fits')"
   ]
  },
  {
   "cell_type": "code",
   "execution_count": 100,
   "metadata": {},
   "outputs": [],
   "source": [
    "\n",
    "# Load the updated FITS file\n",
    "with fits.open('im26_wcs_814.fits') as hdul:\n",
    "    # Extract the data and header\n",
    "    im_data = hdul[0].data\n",
    "    header = hdul[0].header\n",
    "    \n",
    "    # Extract the WCS information\n",
    "    im_wcs = WCS(header)\n",
    "\n"
   ]
  },
  {
   "cell_type": "code",
   "execution_count": null,
   "metadata": {},
   "outputs": [],
   "source": [
    " # Get the shape of the MUSE image\n",
    "    shape_muse = im_muse.shape\n",
    "\n",
    "    # Calculate the central pixel coordinates of the MUSE image\n",
    "    central_pixel = (shape_muse[0] // 2, shape_muse[1] // 2)\n",
    "\n",
    "    # Convert the central pixel coordinates to world coordinates (RA, Dec)\n",
    "    central_coords = wcs_muse.all_pix2world(central_pixel[1], central_pixel[0], 0)\n",
    "    ra_muse, dec_muse = central_coords[0], central_coords[1]\n",
    "\n",
    "    # Calculate the size of the MUSE image in world coordinates (degrees)\n",
    "    # Convert the pixel corners to world coordinates and calculate the differences\n",
    "    corner1 = wcs_muse.all_pix2world(0, 0, 0)\n",
    "    corner2 = wcs_muse.all_pix2world(shape_muse[1], shape_muse[0], 0)\n",
    "    width_deg = abs(corner2[0] - corner1[0])\n",
    "    height_deg = abs(corner2[1] - corner1[1])\n",
    "\n",
    "    print(f\"Central RA: {ra_muse} degrees\")\n",
    "    print(f\"Central Dec: {dec_muse} degrees\")\n",
    "    print(f\"Width: {width_deg} degrees\")\n",
    "    print(f\"Height: {height_deg} degrees\")  \n",
    "    print(f\"central pixel: {central_pixel}\")\n",
    "   \n",
    "    # Get cd object\n",
    "    cd_matrix = wcs_muse.wcs.cd\n",
    "\n",
    "    # Extract the CD1_1 value\n",
    "    cd1_1 = abs(cd_matrix[0, 0])\n",
    "\n",
    "    print(\"CD1_1 value:\", cd1_1)\n",
    "\n",
    "    # Unit conversion to arcseconds\n",
    "    pixscale_deg = cd1_1 * u.deg\n",
    "    pixscale_arcs = pixscale_deg.to(u.arcsec)\n",
    "\n",
    "    print(\"Value in arcseconds:\", pixscale_arcs)\n",
    "\n",
    "    # Calculate the pixscale for Nyquist sampling (2 times the pixel scale)\n",
    "    pixscale_nyquist = 2 * pixscale_arcs #have this as an "
   ]
  },
  {
   "cell_type": "code",
   "execution_count": 99,
   "metadata": {},
   "outputs": [
    {
     "name": "stdout",
     "output_type": "stream",
     "text": [
      "RA: 150.10172310036708, Dec: 2.3130871151093246\n",
      "Pixel Coordinates: x=641812.9534638684, y=-632706.3256077792\n",
      "Error: The pixel coordinates (641812.9534638684, -632706.3256077792) are outside the cube boundaries.\n"
     ]
    },
    {
     "name": "stderr",
     "output_type": "stream",
     "text": [
      "WARNING: UnitsWarning: '1e-20 erg/s/cm  2/Angstrom' contains multiple slashes, which is discouraged by the FITS standard [astropy.units.format.generic]\n"
     ]
    }
   ],
   "source": [
    "from mpdaf.obj import Cube\n",
    "from astropy.coordinates import SkyCoord\n",
    "import astropy.units as u\n",
    "\n",
    "# Path to the MUSE data cube\n",
    "cube_file = '/Users/s2537809/MUSE/cube_26.fits'\n",
    "\n",
    "# Load the MUSE data cube\n",
    "cube = Cube(cube_file)\n",
    "\n",
    "# RA and Dec of the source (in degrees)\n",
    "ra = 150.10172310036708  \n",
    "dec = 2.3130871151093246\n",
    "\n",
    "# Create a SkyCoord object for the source position\n",
    "source_coord = SkyCoord(ra=ra * u.deg, dec=dec * u.deg, frame='icrs')\n",
    "\n",
    "# Convert the RA/Dec to pixel coordinates using the Cube's WCS object\n",
    "pix_coords = cube.wcs.sky2pix([[source_coord.ra.deg, source_coord.dec.deg]])\n",
    "x_pix, y_pix = pix_coords[0][0], pix_coords[0][1]\n",
    "\n",
    "print(f\"RA: {source_coord.ra.deg}, Dec: {source_coord.dec.deg}\")\n",
    "print(f\"Pixel Coordinates: x={x_pix}, y={y_pix}\")\n",
    "\n",
    "# Check if the pixel coordinates are within the cube bounds\n",
    "if (0 <= x_pix < cube.shape[2]) and (0 <= y_pix < cube.shape[1]):\n",
    "    # Get the pixel scale in arcseconds/pixel\n",
    "    pixel_scale = cube.get_step()[0] * 3600  # Convert degrees/pixel to arcseconds/pixel\n",
    "    \n",
    "    # Define the radius for the aperture (0.6 arcseconds)\n",
    "    aperture_radius = 0.6 / pixel_scale  # Convert arcseconds to pixels\n",
    "    \n",
    "    # Extract the 1D spectrum using the circular aperture\n",
    "    try:\n",
    "        spectrum = cube.aperture((x_pix, y_pix), aperture_radius)\n",
    "        \n",
    "        # Plot the spectrum (optional)\n",
    "        spectrum.plot()\n",
    "\n",
    "        # Save the spectrum to a file (optional)\n",
    "        spectrum.write('extracted_spectrum.fits')\n",
    "\n",
    "        # Alternatively, print the spectrum data\n",
    "        print(spectrum.data)\n",
    "        \n",
    "    except ValueError as e:\n",
    "        print(f\"Error: {e}\")\n",
    "else:\n",
    "    print(f\"Error: The pixel coordinates ({x_pix}, {y_pix}) are outside the cube boundaries.\")\n",
    "\n"
   ]
  },
  {
   "cell_type": "code",
   "execution_count": 20,
   "metadata": {},
   "outputs": [
    {
     "name": "stdout",
     "output_type": "stream",
     "text": [
      "Cube dimensions: (3722, 411, 409)\n",
      "WCS Information:\n",
      "WCS Keywords\n",
      "\n",
      "Number of WCS axes: 2\n",
      "CTYPE : 'RA---TAN'  'DEC--TAN'  \n",
      "CRVAL : 150.101125  2.31237  \n",
      "CRPIX : 215.757034655676  193.091925765594  \n",
      "CD1_1 CD1_2  : -5.55555555555556e-05  0.0  \n",
      "CD2_1 CD2_2  : 0.0  5.55555555555556e-05  \n",
      "NAXIS : 409  411  3722\n"
     ]
    }
   ],
   "source": [
    "print(f\"Cube dimensions: {cube.shape}\")\n",
    "print(f\"WCS Information:\\n{cube.wcs}\")\n",
    "\n"
   ]
  },
  {
   "cell_type": "code",
   "execution_count": null,
   "metadata": {},
   "outputs": [],
   "source": []
  },
  {
   "cell_type": "code",
   "execution_count": 24,
   "metadata": {},
   "outputs": [
    {
     "name": "stdout",
     "output_type": "stream",
     "text": [
      "Cube dimensions: (3722, 411, 409)\n",
      "Pixel Coordinates: x=204, y=205\n",
      "RA: 150.10172310036708, Dec: 2.3130871151093246\n"
     ]
    },
    {
     "name": "stderr",
     "output_type": "stream",
     "text": [
      "WARNING: UnitsWarning: '1e-20 erg/s/cm  2/Angstrom' contains multiple slashes, which is discouraged by the FITS standard [astropy.units.format.generic]\n"
     ]
    }
   ],
   "source": [
    "from mpdaf.obj import Cube\n",
    "\n",
    "# Path to the MUSE data cube\n",
    "cube_file = '/Users/s2537809/MUSE/cube_26.fits'\n",
    "\n",
    "# Load the MUSE data cube\n",
    "cube = Cube(cube_file)\n",
    "\n",
    "# Print the shape of the cube\n",
    "print(f\"Cube dimensions: {cube.shape}\")\n",
    "\n",
    "from astropy.wcs import WCS\n",
    "from astropy.coordinates import SkyCoord\n",
    "import astropy.units as u\n",
    "\n",
    "# Assuming you have the Cube object loaded as 'cube'\n",
    "# Get the WCS from the cube\n",
    "wcs = WCS(cube.wcs.to_header())\n",
    "\n",
    "# Choose a pixel coordinate that is within the cube's dimensions\n",
    "# Use the center of the cube as an example\n",
    "x_pixel = cube.shape[2] // 2\n",
    "y_pixel = cube.shape[1] // 2\n",
    "\n",
    "# Convert pixel coordinates to RA/Dec\n",
    "ra_dec = wcs.pixel_to_world(x_pixel, y_pixel)\n",
    "ra = ra_dec.ra.deg\n",
    "dec = ra_dec.dec.deg\n",
    "\n",
    "print(f\"Pixel Coordinates: x={x_pixel}, y={y_pixel}\")\n",
    "print(f\"RA: {ra}, Dec: {dec}\")\n"
   ]
  },
  {
   "cell_type": "markdown",
   "metadata": {},
   "source": [
    "# Following the cube object docs"
   ]
  },
  {
   "cell_type": "code",
   "execution_count": 4,
   "metadata": {},
   "outputs": [],
   "source": [
    "from mpdaf.sdetect import Source\n",
    "from mpdaf.obj import Spectrum\n",
    "import matplotlib.pyplot as plt\n",
    "from mpdaf.obj import Cube"
   ]
  },
  {
   "cell_type": "code",
   "execution_count": 5,
   "metadata": {},
   "outputs": [
    {
     "name": "stderr",
     "output_type": "stream",
     "text": [
      "WARNING: UnitsWarning: '1e-20 erg/s/cm  2/Angstrom' contains multiple slashes, which is discouraged by the FITS standard [astropy.units.format.generic]\n"
     ]
    }
   ],
   "source": [
    "# Load the MUSE data cube using mpdaf\n",
    "filename = '/Users/s2537809/MUSE/cube_26.fits'\n",
    "cube = Cube(filename)"
   ]
  },
  {
   "cell_type": "code",
   "execution_count": 80,
   "metadata": {},
   "outputs": [
    {
     "name": "stderr",
     "output_type": "stream",
     "text": [
      "[INFO] 3722 x 411 x 409 Cube (/Users/s2537809/MUSE/cube_26.fits)\n",
      "[INFO] .data(3722 x 411 x 409) (1e-20 erg / (Angstrom s cm2)), no noise\n",
      "[INFO] center:(02:18:47.11361439,10:00:24.41354409) size:(82.200\",81.800\") step:(0.200\",0.200\") rot:-0.0 deg frame:ICRS\n",
      "[INFO] wavelength: min:4700.33 max:9351.58 step:1.25 Angstrom\n"
     ]
    }
   ],
   "source": [
    "cube.info()"
   ]
  },
  {
   "cell_type": "code",
   "execution_count": 81,
   "metadata": {},
   "outputs": [
    {
     "data": {
      "image/png": "[encoded data removed]",
      "text/plain": [
       "<Figure size 640x480 with 1 Axes>"
      ]
     },
     "metadata": {},
     "output_type": "display_data"
    }
   ],
   "source": [
    "sp1 = cube.sum(axis=(1,2))\n",
    "\n",
    "plt.figure()\n",
    "\n",
    "sp1.plot()"
   ]
  },
  {
   "cell_type": "code",
   "execution_count": 82,
   "metadata": {},
   "outputs": [
    {
     "data": {
      "image/png": "[encoded data removed]",
      "text/plain": [
       "<Figure size 640x480 with 1 Axes>"
      ]
     },
     "metadata": {},
     "output_type": "display_data"
    }
   ],
   "source": [
    "# Loop over all spectra to subtract background from spectra\n",
    "plt.figure()\n",
    "cont1 = sp1.poly_spec(5)\n",
    "sp1.plot()\n",
    "cont1.plot(color='r')"
   ]
  },
  {
   "cell_type": "code",
   "execution_count": 83,
   "metadata": {},
   "outputs": [
    {
     "data": {
      "image/png": "[encoded data removed]",
      "text/plain": [
       "<Figure size 640x480 with 1 Axes>"
      ]
     },
     "metadata": {},
     "output_type": "display_data"
    }
   ],
   "source": [
    "plt.figure()\n",
    "sp1 = cube[:,100,100]\n",
    "sp1.plot()\n",
    "sp1.poly_spec(5).plot(color='r')"
   ]
  },
  {
   "cell_type": "code",
   "execution_count": null,
   "metadata": {},
   "outputs": [],
   "source": []
  },
  {
   "cell_type": "code",
   "execution_count": 111,
   "metadata": {},
   "outputs": [],
   "source": [
    "s = Source.from_data(ID=8621, ra=150.10522574429797, dec=2.313908771623179, origin=('test','v0.0','/Users/s2537809/MUSE/cube_26.fits', 'v1.34'))"
   ]
  },
  {
   "cell_type": "code",
   "execution_count": 112,
   "metadata": {},
   "outputs": [
    {
     "name": "stderr",
     "output_type": "stream",
     "text": [
      "[INFO] ID      =                 8621 / object ID %d                                   \n",
      "[INFO] RA      =   150.10522574429797 / RA u.degree %.7f                               \n",
      "[INFO] DEC     =    2.313908771623179 / DEC u.degree %.7f                              \n",
      "[INFO] FROM    = 'test    '           / detection software                             \n",
      "[INFO] FROM_V  = 'v0.0    '           / version of the detection software              \n",
      "[INFO] CUBE    = 'cube_26.fits'       / datacube                                       \n",
      "[INFO] CUBE_V  = 'v1.34   '           / version of the datacube                        \n",
      "[INFO] SRC_V   = ''                                                                    \n",
      "[INFO] 0 spectra: \n",
      "[INFO] 0 images: \n",
      "[INFO] 0 cubes: \n",
      "[INFO] 0 tables: \n"
     ]
    }
   ],
   "source": [
    "s.info()\n"
   ]
  },
  {
   "cell_type": "code",
   "execution_count": 114,
   "metadata": {},
   "outputs": [
    {
     "name": "stderr",
     "output_type": "stream",
     "text": [
      "WARNING: UnitsWarning: '1e-20 erg/s/cm  2/Angstrom' contains multiple slashes, which is discouraged by the FITS standard [astropy.units.format.generic]\n"
     ]
    }
   ],
   "source": [
    "\n",
    "cube = Cube('/Users/s2537809/MUSE/cube_26.fits')\n",
    "s.y, s.x = cube.wcs.sky2pix((s.dec,s.ra))[0]"
   ]
  },
  {
   "cell_type": "code",
   "execution_count": 115,
   "metadata": {},
   "outputs": [
    {
     "name": "stderr",
     "output_type": "stream",
     "text": [
      "[INFO] ID      =                 8621 / object ID %d                                   \n",
      "[INFO] RA      =   150.10522574429797 / RA u.degree %.7f                               \n",
      "[INFO] DEC     =    2.313908771623179 / DEC u.degree %.7f                              \n",
      "[INFO] FROM    = 'test    '           / detection software                             \n",
      "[INFO] FROM_V  = 'v0.0    '           / version of the detection software              \n",
      "[INFO] CUBE    = 'cube_26.fits'       / datacube                                       \n",
      "[INFO] CUBE_V  = 'v1.34   '           / version of the datacube                        \n",
      "[INFO] SRC_V   = ''                                                                    \n",
      "[INFO] Y       =   219.78992154991693                                                  \n",
      "[INFO] X       =   141.00382284764018                                                  \n",
      "[INFO] 0 spectra: \n",
      "[INFO] 0 images: \n",
      "[INFO] 1 cubes: MUSE\n",
      "[INFO] 0 tables: \n"
     ]
    }
   ],
   "source": [
    "s.info()\n"
   ]
  },
  {
   "cell_type": "code",
   "execution_count": 116,
   "metadata": {},
   "outputs": [],
   "source": [
    "s.add_cube(cube, 'MUSE', size=5, lbda=(5000,8500))"
   ]
  },
  {
   "cell_type": "code",
   "execution_count": 117,
   "metadata": {},
   "outputs": [
    {
     "data": {
      "text/plain": [
       "<matplotlib.image.AxesImage at 0x15891fc10>"
      ]
     },
     "execution_count": 117,
     "metadata": {},
     "output_type": "execute_result"
    },
    {
     "data": {
      "image/png": "[encoded data removed]",
      "text/plain": [
       "<Figure size 640x480 with 1 Axes>"
      ]
     },
     "metadata": {},
     "output_type": "display_data"
    }
   ],
   "source": [
    "s.add_white_image(cube=cube, size=5)\n",
    "\n",
    "s.images['MUSE_WHITE'].plot(title='MUSE_WHITE')"
   ]
  },
  {
   "cell_type": "code",
   "execution_count": 90,
   "metadata": {},
   "outputs": [
    {
     "name": "stderr",
     "output_type": "stream",
     "text": [
      "[INFO] ID      =                 8621 / object ID %d                                   \n",
      "[INFO] RA      =   150.09842635601223 / RA u.degree %.7f                               \n",
      "[INFO] DEC     =   2.3092157537739473 / DEC u.degree %.7f                              \n",
      "[INFO] FROM    = 'test    '           / detection software                             \n",
      "[INFO] FROM_V  = 'v0.0    '           / version of the detection software              \n",
      "[INFO] CUBE    = 'cube_26.fits'       / datacube                                       \n",
      "[INFO] CUBE_V  = 'v1.34   '           / version of the datacube                        \n",
      "[INFO] SRC_V   = ''                                                                    \n",
      "[INFO] Y       =    135.3155396947909                                                  \n",
      "[INFO] X       =   263.29317962712946                                                  \n",
      "[INFO] 0 spectra: \n",
      "[INFO] 1 images: MUSE_WHITE\n",
      "[INFO] 1 cubes: MUSE\n",
      "[INFO] 0 tables: \n"
     ]
    }
   ],
   "source": [
    "s.info()\n",
    "s.write('source%04d.fits'%s.id)"
   ]
  },
  {
   "cell_type": "code",
   "execution_count": 91,
   "metadata": {},
   "outputs": [
    {
     "ename": "ValueError",
     "evalue": "key MASK_SKY not present in the images dictionary",
     "output_type": "error",
     "traceback": [
      "\u001b[0;31m---------------------------------------------------------------------------\u001b[0m",
      "\u001b[0;31mValueError\u001b[0m                                Traceback (most recent call last)",
      "Cell \u001b[0;32mIn[91], line 148\u001b[0m\n\u001b[1;32m    138\u001b[0m                 tmpim\u001b[38;5;241m.\u001b[39munmask()\n\u001b[1;32m    143\u001b[0m             \u001b[38;5;66;03m# Insert the PSF weighted flux - here re-normalised?\u001b[39;00m\n\u001b[1;32m    144\u001b[0m \n\u001b[1;32m    145\u001b[0m         \n\u001b[1;32m    146\u001b[0m \n\u001b[1;32m    147\u001b[0m \u001b[38;5;66;03m# Extract the spectra from the cube\u001b[39;00m\n\u001b[0;32m--> 148\u001b[0m spec \u001b[38;5;241m=\u001b[39m \u001b[43mextract_spectra\u001b[49m\u001b[43m(\u001b[49m\u001b[43ms\u001b[49m\u001b[43m,\u001b[49m\u001b[43m \u001b[49m\u001b[43mcube\u001b[49m\u001b[43m,\u001b[49m\u001b[43m \u001b[49m\u001b[43mobj_mask\u001b[49m\u001b[38;5;241;43m=\u001b[39;49m\u001b[38;5;124;43m'\u001b[39;49m\u001b[38;5;124;43mMUSE_WHITE\u001b[39;49m\u001b[38;5;124;43m'\u001b[39;49m\u001b[43m,\u001b[49m\u001b[43m \u001b[49m\u001b[43mtags_to_try\u001b[49m\u001b[38;5;241;43m=\u001b[39;49m\u001b[43m[\u001b[49m\u001b[38;5;124;43m'\u001b[39;49m\u001b[38;5;124;43mMUSE_WHITE\u001b[39;49m\u001b[38;5;124;43m'\u001b[39;49m\u001b[43m]\u001b[49m\u001b[43m,\u001b[49m\u001b[43m \u001b[49m\u001b[43mskysub\u001b[49m\u001b[38;5;241;43m=\u001b[39;49m\u001b[38;5;28;43;01mTrue\u001b[39;49;00m\u001b[43m,\u001b[49m\u001b[43m \u001b[49m\u001b[43mbeta\u001b[49m\u001b[38;5;241;43m=\u001b[39;49m\u001b[38;5;28;43;01mNone\u001b[39;49;00m\u001b[43m,\u001b[49m\u001b[43m \u001b[49m\u001b[43mlbda\u001b[49m\u001b[38;5;241;43m=\u001b[39;49m\u001b[38;5;28;43;01mNone\u001b[39;49;00m\u001b[43m,\u001b[49m\u001b[43m \u001b[49m\u001b[43mapertures\u001b[49m\u001b[38;5;241;43m=\u001b[39;49m\u001b[38;5;28;43;01mNone\u001b[39;49;00m\u001b[43m,\u001b[49m\u001b[43m \u001b[49m\u001b[43munit_wave\u001b[49m\u001b[38;5;241;43m=\u001b[39;49m\u001b[43mu\u001b[49m\u001b[38;5;241;43m.\u001b[39;49m\u001b[43mangstrom\u001b[49m\u001b[43m)\u001b[49m\n\u001b[1;32m    150\u001b[0m \u001b[38;5;28mprint\u001b[39m(spec)\n",
      "Cell \u001b[0;32mIn[91], line 81\u001b[0m, in \u001b[0;36mextract_spectra\u001b[0;34m(self, cube, obj_mask, sky_mask, tags_to_try, skysub, psf, beta, lbda, apertures, unit_wave)\u001b[0m\n\u001b[1;32m     77\u001b[0m     \u001b[38;5;28;01mraise\u001b[39;00m \u001b[38;5;167;01mValueError\u001b[39;00m(\u001b[38;5;124m'\u001b[39m\u001b[38;5;124mkey \u001b[39m\u001b[38;5;132;01m%s\u001b[39;00m\u001b[38;5;124m not present in the images dictionary\u001b[39m\u001b[38;5;124m'\u001b[39m\n\u001b[1;32m     78\u001b[0m                      \u001b[38;5;241m%\u001b[39m obj_mask)\n\u001b[1;32m     80\u001b[0m \u001b[38;5;28;01mif\u001b[39;00m skysub \u001b[38;5;129;01mand\u001b[39;00m sky_mask \u001b[38;5;129;01mnot\u001b[39;00m \u001b[38;5;129;01min\u001b[39;00m \u001b[38;5;28mself\u001b[39m\u001b[38;5;241m.\u001b[39mimages:\n\u001b[0;32m---> 81\u001b[0m     \u001b[38;5;28;01mraise\u001b[39;00m \u001b[38;5;167;01mValueError\u001b[39;00m(\u001b[38;5;124m'\u001b[39m\u001b[38;5;124mkey \u001b[39m\u001b[38;5;132;01m%s\u001b[39;00m\u001b[38;5;124m not present in the images dictionary\u001b[39m\u001b[38;5;124m'\u001b[39m\n\u001b[1;32m     82\u001b[0m                      \u001b[38;5;241m%\u001b[39m sky_mask)\n\u001b[1;32m     84\u001b[0m ima \u001b[38;5;241m=\u001b[39m \u001b[38;5;28mself\u001b[39m\u001b[38;5;241m.\u001b[39mimages[obj_mask]\n\u001b[1;32m     86\u001b[0m \u001b[38;5;28;01mif\u001b[39;00m ima\u001b[38;5;241m.\u001b[39mwcs\u001b[38;5;241m.\u001b[39msameStep(cube\u001b[38;5;241m.\u001b[39mwcs):\n",
      "\u001b[0;31mValueError\u001b[0m: key MASK_SKY not present in the images dictionary"
     ]
    }
   ],
   "source": [
    "import numpy as np\n",
    "from astropy import units as u\n",
    "from mpdaf.obj import Cube, Image\n",
    "from mpdaf.sdetect import compute_optimal_spectrum\n",
    "from mpdaf.MUSE.PSF import MOFFAT1, create_psf_cube\n",
    "\n",
    "\n",
    "\n",
    "def extract_spectra(self, cube, obj_mask='MASK_UNION', sky_mask='MASK_SKY',\n",
    "                        tags_to_try=('MUSE_WHITE', 'NB_LYALPHA',\n",
    "                                     'NB_HALPHA', 'NB_SUMOII3726'),\n",
    "                        skysub=True, psf=None, beta=None, lbda=None,\n",
    "                        apertures=None, unit_wave=u.angstrom):\n",
    "        \"\"\"Extract spectra from a data cube.\n",
    "\n",
    "        This method extracts several spectra from a data cube and from a list\n",
    "        of narrow-band images (to define spectrum extraction apertures).\n",
    "        First, it computes a subcube that has the same size along the spatial\n",
    "        axis as the mask image given by ``obj_mask``.\n",
    "\n",
    "        Then, the no-weighting spectrum is computed as the sum of the subcube\n",
    "        weighted by the mask of the object and saved in\n",
    "        ``self.spectra['MUSE_TOT']``.\n",
    "\n",
    "        The weighted spectra are computed as the sum of the subcube weighted by\n",
    "        the corresponding narrow-band image. They are saved in\n",
    "        ``self.spectra[nb_ima] for nb_ima in tags_to_try``.\n",
    "\n",
    "        For the weighted spectra, with the psf and narrow-band images, the\n",
    "        optimal extraction algorithm for CCD spectroscopy Horne, K. 1986 is\n",
    "        used. See `mpdaf.sdetect.compute_optimal_spectrum` for more detail.\n",
    "\n",
    "        If ``psf`` is True:\n",
    "            The potential PSF weighted spectrum is computed as the sum of the\n",
    "            subcube weighted by multiplication of the mask of the object and\n",
    "            the PSF. It is saved in self.spectra['MUSE_PSF']\n",
    "\n",
    "        If ``skysub`` is True:\n",
    "            The local sky spectrum is computed as the average of the subcube\n",
    "            weighted by the sky mask image.\n",
    "            It is saved in ``self.spectra['MUSE_SKY']``\n",
    "\n",
    "            The other spectra are computed on the sky-subtracted subcube and\n",
    "            they are saved in ``self.spectra['*_SKYSUB']``.\n",
    "\n",
    "        Parameters\n",
    "        ----------\n",
    "        cube : `~mpdaf.obj.Cube`\n",
    "            Input data cube.\n",
    "        obj_mask : str\n",
    "            Name of the image that contains the mask of the object.\n",
    "        sky_mask : str\n",
    "            Name of the sky mask image.\n",
    "        tags_to_try : list of str\n",
    "            List of narrow-band images.\n",
    "        skysub : bool\n",
    "            If True, a local sky subtraction is done.\n",
    "        psf : numpy.ndarray\n",
    "            The PSF to use for PSF-weighted extraction.  This can be a vector\n",
    "            of length equal to the wavelength axis to give the FWHM of the\n",
    "            Gaussian or Moffat PSF at each wavelength (in arcsec) or a cube\n",
    "            with the PSF to use. No PSF-weighted extraction by default.\n",
    "        beta : float or none\n",
    "            If not none, the PSF is a Moffat function with beta value,\n",
    "            else it is a Gaussian.\n",
    "        lbda : (float, float) or none\n",
    "            If not none, tuple giving the wavelength range.\n",
    "        unit_wave : `astropy.units.Unit`\n",
    "            Wavelengths unit (angstrom by default)\n",
    "            If None, inputs are in pixels\n",
    "        apertures : list of float\n",
    "            List of aperture radii (arcseconds) for which a spectrum is\n",
    "            extracted.\n",
    "\n",
    "        \"\"\"\n",
    "        if obj_mask not in self.images:\n",
    "            raise ValueError('key %s not present in the images dictionary'\n",
    "                             % obj_mask)\n",
    "\n",
    "        if skysub and sky_mask not in self.images:\n",
    "            raise ValueError('key %s not present in the images dictionary'\n",
    "                             % sky_mask)\n",
    "\n",
    "        ima = self.images[obj_mask]\n",
    "\n",
    "        if ima.wcs.sameStep(cube.wcs):\n",
    "            size = ima.shape[0]\n",
    "            unit_size = None\n",
    "        else:\n",
    "            size = ima.wcs.get_step(unit=u.arcsec)[0] * ima.shape[0]\n",
    "            unit_size = u.arcsec\n",
    "\n",
    "        center = (self.dec, self.ra)\n",
    "        subcub = cube.subcube(center=center, size=size,\n",
    "                              unit_center=u.deg, unit_size=unit_size,\n",
    "                              lbda=lbda, unit_wave=unit_wave)\n",
    "        wcsref = subcub.wcs\n",
    "\n",
    "        if not ima.wcs.isEqual(wcsref):\n",
    "            ima = ima.resample(\n",
    "                newdim=subcub.shape[1:],\n",
    "                newstart=wcsref.get_start(unit=u.deg),\n",
    "                newstep=wcsref.get_step(unit=u.arcsec),\n",
    "                order=0, unit_start=u.deg, unit_step=u.arcsec)\n",
    "\n",
    "        object_mask = ima.data.data\n",
    "\n",
    "        if skysub:\n",
    "            skymask = self.images[sky_mask]\n",
    "            if not skymask.wcs.isEqual(wcsref):\n",
    "                skymask = skymask.resample(\n",
    "                    newdim=subcub.shape[1:],\n",
    "                    newstart=wcsref.get_start(unit=u.deg),\n",
    "                    newstep=wcsref.get_step(unit=u.arcsec),\n",
    "                    order=0, unit_start=u.deg, unit_step=u.arcsec)\n",
    "\n",
    "            # Get the sky spectrum and subtract it\n",
    "            self.spectra['MUSE_SKY'] = subcub.mean(weights=skymask.data.data,\n",
    "                                                   axis=(1, 2))\n",
    "            subcub = subcub - self.spectra['MUSE_SKY']\n",
    "            suffix = '_SKYSUB'\n",
    "        else:\n",
    "            suffix = ''\n",
    "\n",
    "        # No weighting\n",
    "        spec = (subcub * object_mask).sum(axis=(1, 2))\n",
    "        self.spectra['MUSE_TOT' + suffix] = spec\n",
    "\n",
    "        if apertures:\n",
    "            tmpim = Image(data=np.zeros_like(object_mask, dtype=bool),\n",
    "                          copy=False, wcs=ima.wcs)\n",
    "            for radius in apertures:\n",
    "                tmpim.mask_ellipse(center, radius, 0)\n",
    "                mask = object_mask.astype(bool) & tmpim.mask\n",
    "                # spec = compute_spectrum(subcub, weights=mask)\n",
    "                spec = (subcub * mask).sum(axis=(1, 2))\n",
    "                self.spectra['MUSE_APER_%.1f%s' % (radius, suffix)] = spec\n",
    "                tmpim.unmask()\n",
    "\n",
    "        \n",
    "       \n",
    "\n",
    "            # Insert the PSF weighted flux - here re-normalised?\n",
    "\n",
    "        \n",
    "\n",
    "# Extract the spectra from the cube\n",
    "spec = extract_spectra(s, cube, obj_mask='MUSE_WHITE', tags_to_try=['MUSE_WHITE'], skysub=True, beta=None, lbda=None, apertures=None, unit_wave=u.angstrom)\n",
    "\n",
    "print(spec)"
   ]
  },
  {
   "cell_type": "code",
   "execution_count": 92,
   "metadata": {},
   "outputs": [
    {
     "name": "stderr",
     "output_type": "stream",
     "text": [
      "\u001b[1M> \n",
      "\u001b[1A----- SExtractor 2.28.0 started on 2024-08-19 at 11:59:34 with 1 thread\n",
      "\n",
      "\u001b[1M> Setting catalog parameters\n",
      "\u001b[1A\u001b[1M> Reading detection filter\n",
      "\u001b[1A\u001b[1M> Initializing Neural Network\n",
      "\u001b[1A\u001b[1M> Reading Neural Network Weights\n",
      "\u001b[1A\u001b[1M> Initializing check-image(s)\n",
      "\u001b[1A\u001b[1M> Initializing catalog\n",
      "\u001b[1A\u001b[1M> Looking for 8621-MUSE_WHITE.fits\n",
      "\u001b[1A----- Measuring from: 8621-MUSE_WHITE.fits [1/1]\n",
      "      \"MUSE-JELS - Pointing\" / no ext. header / 25x25 / 32 bits (floats)\n",
      "Detection+Measurement image: \u001b[1M> Setting up background maps\n",
      "\u001b[1A\u001b[1M> Filtering background map(s)\n",
      "\u001b[1A\u001b[1M> Computing background d-map\n",
      "\u001b[1A\u001b[1M> Computing background-noise d-map\n",
      "\u001b[1A(M+D) Background: 0.669307   RMS: 0.324319   / Threshold: 0.24324    \n",
      "\u001b[1M> Scanning image\n",
      "\u001b[1A\u001b[1M> Line:   25  Objects:        2 detected /        0 sextracted\n",
      "\u001b[1A\u001b[1M> Line:   25  Objects:        2 detected /        2 sextracted\n",
      "\u001b[1A      Objects: detected 2        / sextracted 2               \n",
      "\n",
      "\u001b[1M> Closing files\n",
      "\u001b[1A\u001b[1M> \n",
      "\u001b[1A> All done (in 0.0 s: 1672.1 lines/s , 133.8 detections/s)\n",
      "[DEBUG] Doing MUSE_WHITE\n",
      "[DEBUG] Image MUSE_WHITE has one useful objects\n",
      "[DEBUG] Doing MUSE_WHITE\n",
      "[DEBUG] Image MUSE_WHITE has one useful objects\n"
     ]
    },
    {
     "name": "stdout",
     "output_type": "stream",
     "text": [
      "SExtractor version 2.28.0 (2023-03-11)\n",
      "KeysView(2 images: MUSE_WHITE SEG_MUSE_WHITE)\n",
      "Union Mask type: <class 'NoneType'>\n"
     ]
    },
    {
     "ename": "ValueError",
     "evalue": "key UNION_MASK not present in the images dictionary",
     "output_type": "error",
     "traceback": [
      "\u001b[0;31m---------------------------------------------------------------------------\u001b[0m",
      "\u001b[0;31mValueError\u001b[0m                                Traceback (most recent call last)",
      "Cell \u001b[0;32mIn[92], line 25\u001b[0m\n\u001b[1;32m     20\u001b[0m intersection_mask \u001b[38;5;241m=\u001b[39m s\u001b[38;5;241m.\u001b[39mfind_intersection_mask(seg_tags)\n\u001b[1;32m     23\u001b[0m \u001b[38;5;66;03m# Assuming `cube` is your MUSE data cube and is available\u001b[39;00m\n\u001b[1;32m     24\u001b[0m \u001b[38;5;66;03m# Compute the spectra using the union mask\u001b[39;00m\n\u001b[0;32m---> 25\u001b[0m spectrum_union \u001b[38;5;241m=\u001b[39m \u001b[43ms\u001b[49m\u001b[38;5;241;43m.\u001b[39;49m\u001b[43mextract_spectra\u001b[49m\u001b[43m(\u001b[49m\u001b[43mcube\u001b[49m\u001b[43m,\u001b[49m\u001b[38;5;124;43m'\u001b[39;49m\u001b[38;5;124;43mUNION_MASK\u001b[39;49m\u001b[38;5;124;43m'\u001b[39;49m\u001b[43m)\u001b[49m\n",
      "File \u001b[0;32m~/anaconda3/envs/py3.9/lib/python3.9/site-packages/mpdaf/sdetect/source.py:1736\u001b[0m, in \u001b[0;36mSource.extract_spectra\u001b[0;34m(self, cube, obj_mask, sky_mask, tags_to_try, skysub, psf, beta, lbda, apertures, unit_wave)\u001b[0m\n\u001b[1;32m   1673\u001b[0m \u001b[38;5;250m\u001b[39m\u001b[38;5;124;03m\"\"\"Extract spectra from a data cube.\u001b[39;00m\n\u001b[1;32m   1674\u001b[0m \n\u001b[1;32m   1675\u001b[0m \u001b[38;5;124;03mThis method extracts several spectra from a data cube and from a list\u001b[39;00m\n\u001b[0;32m   (...)\u001b[0m\n\u001b[1;32m   1733\u001b[0m \n\u001b[1;32m   1734\u001b[0m \u001b[38;5;124;03m\"\"\"\u001b[39;00m\n\u001b[1;32m   1735\u001b[0m \u001b[38;5;28;01mif\u001b[39;00m obj_mask \u001b[38;5;129;01mnot\u001b[39;00m \u001b[38;5;129;01min\u001b[39;00m \u001b[38;5;28mself\u001b[39m\u001b[38;5;241m.\u001b[39mimages:\n\u001b[0;32m-> 1736\u001b[0m     \u001b[38;5;28;01mraise\u001b[39;00m \u001b[38;5;167;01mValueError\u001b[39;00m(\u001b[38;5;124m'\u001b[39m\u001b[38;5;124mkey \u001b[39m\u001b[38;5;132;01m%s\u001b[39;00m\u001b[38;5;124m not present in the images dictionary\u001b[39m\u001b[38;5;124m'\u001b[39m\n\u001b[1;32m   1737\u001b[0m                      \u001b[38;5;241m%\u001b[39m obj_mask)\n\u001b[1;32m   1739\u001b[0m \u001b[38;5;28;01mif\u001b[39;00m skysub \u001b[38;5;129;01mand\u001b[39;00m sky_mask \u001b[38;5;129;01mnot\u001b[39;00m \u001b[38;5;129;01min\u001b[39;00m \u001b[38;5;28mself\u001b[39m\u001b[38;5;241m.\u001b[39mimages:\n\u001b[1;32m   1740\u001b[0m     \u001b[38;5;28;01mraise\u001b[39;00m \u001b[38;5;167;01mValueError\u001b[39;00m(\u001b[38;5;124m'\u001b[39m\u001b[38;5;124mkey \u001b[39m\u001b[38;5;132;01m%s\u001b[39;00m\u001b[38;5;124m not present in the images dictionary\u001b[39m\u001b[38;5;124m'\u001b[39m\n\u001b[1;32m   1741\u001b[0m                      \u001b[38;5;241m%\u001b[39m sky_mask)\n",
      "\u001b[0;31mValueError\u001b[0m: key UNION_MASK not present in the images dictionary"
     ]
    }
   ],
   "source": [
    "\n",
    "# Add seg images\n",
    "s.add_seg_images()\n",
    "\n",
    "# Print available segmentation tags\n",
    "print(s.images.keys())\n",
    "\n",
    "\n",
    "# Add seg tags \n",
    "seg_tags = ['MUSE_WHITE', 'SEG_MUSE_WHITE']\n",
    "\n",
    "# Find sky mask \n",
    "sky_mask = s.find_sky_mask(seg_tags)\n",
    "\n",
    "# Find the union mask from segmentation tags\n",
    "union_mask = s.find_union_mask(seg_tags)\n",
    "print(\"Union Mask type:\", type(union_mask))  # Debugging step\n",
    "\n",
    "\n",
    "# Find the intersection mask from segmentation tags\n",
    "intersection_mask = s.find_intersection_mask(seg_tags)\n",
    "\n",
    "\n",
    "# Assuming `cube` is your MUSE data cube and is available\n",
    "# Compute the spectra using the union mask\n",
    "spectrum_union = s.extract_spectra(cube,'UNION_MASK')\n",
    "\n",
    "# Compute the spectra using the intersection mask\n",
    "#spectrum_intersection = s.extract_spectra(cube, intersection_mask)\n",
    "\n",
    "# Print or use the computed spectra as needed\n",
    "#print(\"Spectrum using union mask:\", spectrum_union)\n",
    "#print(\"Spectrum using intersection mask:\", spectrum_intersection)\n"
   ]
  },
  {
   "cell_type": "code",
   "execution_count": 25,
   "metadata": {},
   "outputs": [
    {
     "name": "stdout",
     "output_type": "stream",
     "text": [
      "KeysView(2 images: MUSE_WHITE SEG_MUSE_WHITE)\n"
     ]
    }
   ],
   "source": [
    "\n",
    "# Print available segmentation tags\n",
    "print(s.images.keys())"
   ]
  },
  {
   "cell_type": "code",
   "execution_count": 16,
   "metadata": {},
   "outputs": [
    {
     "name": "stdout",
     "output_type": "stream",
     "text": [
      "SExtractor version 2.28.0 (2023-03-11)\n",
      "SExtractor is available and working.\n"
     ]
    }
   ],
   "source": [
    "import os\n",
    "import subprocess\n",
    "\n",
    "# Add the directory containing 'sex' to the PATH\n",
    "os.environ['PATH'] += ':/opt/homebrew/bin'\n",
    "\n",
    "# Verify that SExtractor can be found\n",
    "try:\n",
    "    subprocess.check_call(['sex', '-v'])\n",
    "    print(\"SExtractor is available and working.\")\n",
    "except FileNotFoundError:\n",
    "    print(\"SExtractor could not be found.\")\n",
    "\n"
   ]
  },
  {
   "cell_type": "code",
   "execution_count": 15,
   "metadata": {},
   "outputs": [
    {
     "name": "stderr",
     "output_type": "stream",
     "text": [
      "WARNING: UnitsWarning: '1e-20 erg/s/cm  2/Angstrom' contains multiple slashes, which is discouraged by the FITS standard [astropy.units.format.generic]\n"
     ]
    }
   ],
   "source": [
    "from mpdaf.obj import Cube\n",
    "\n",
    "# Load the MUSE data cube\n",
    "cube = Cube('/Users/s2537809/MUSE/cube_26.fits')\n",
    "\n"
   ]
  },
  {
   "cell_type": "code",
   "execution_count": 26,
   "metadata": {},
   "outputs": [
    {
     "name": "stderr",
     "output_type": "stream",
     "text": [
      "WARNING: UnitsWarning: '1e-20 erg/s/cm  2/Angstrom' contains multiple slashes, which is discouraged by the FITS standard [astropy.units.format.generic]\n"
     ]
    },
    {
     "ename": "AttributeError",
     "evalue": "'WCS' object has no attribute 'cdelt'",
     "output_type": "error",
     "traceback": [
      "\u001b[0;31m---------------------------------------------------------------------------\u001b[0m",
      "\u001b[0;31mAttributeError\u001b[0m                            Traceback (most recent call last)",
      "Cell \u001b[0;32mIn[26], line 22\u001b[0m\n\u001b[1;32m     19\u001b[0m aperture_radius_arcsec \u001b[38;5;241m=\u001b[39m \u001b[38;5;241m0.6\u001b[39m  \u001b[38;5;66;03m# in arcseconds\u001b[39;00m\n\u001b[1;32m     21\u001b[0m \u001b[38;5;66;03m# Get pixel scale in arcseconds/pixel from CDELT1 (assuming square pixels)\u001b[39;00m\n\u001b[0;32m---> 22\u001b[0m pixel_scale_deg \u001b[38;5;241m=\u001b[39m \u001b[38;5;28mabs\u001b[39m(\u001b[43mcube\u001b[49m\u001b[38;5;241;43m.\u001b[39;49m\u001b[43mwcs\u001b[49m\u001b[38;5;241;43m.\u001b[39;49m\u001b[43mwcs\u001b[49m\u001b[38;5;241;43m.\u001b[39;49m\u001b[43mcdelt\u001b[49m[\u001b[38;5;241m0\u001b[39m])  \u001b[38;5;66;03m# degrees per pixel\u001b[39;00m\n\u001b[1;32m     23\u001b[0m pixel_scale_arcsec \u001b[38;5;241m=\u001b[39m pixel_scale_deg \u001b[38;5;241m*\u001b[39m \u001b[38;5;241m3600\u001b[39m   \u001b[38;5;66;03m# convert to arcseconds/pixel\u001b[39;00m\n\u001b[1;32m     25\u001b[0m \u001b[38;5;66;03m# Convert aperture radius from arcseconds to pixels\u001b[39;00m\n",
      "\u001b[0;31mAttributeError\u001b[0m: 'WCS' object has no attribute 'cdelt'"
     ]
    }
   ],
   "source": [
    "from mpdaf.obj import Cube\n",
    "from astropy.coordinates import SkyCoord\n",
    "from astropy import units as u\n",
    "import matplotlib.pyplot as plt\n",
    "\n",
    "# Load the MUSE data cube\n",
    "cube = Cube('/Users/s2537809/MUSE/cube_26.fits')\n",
    "\n",
    "# Source coordinates (RA, DEC) in degrees\n",
    "ra = 150.0  # in degrees\n",
    "dec = 2.0   # in degrees\n",
    "source_coord = SkyCoord(ra, dec, unit=(u.deg, u.deg))\n",
    "\n",
    "# Convert the source coordinates (RA, DEC) to pixel coordinates in the cube\n",
    "pix_coords = cube.wcs.sky2pix([[source_coord.ra.deg, source_coord.dec.deg]])[0]\n",
    "x_pix, y_pix = pix_coords\n",
    "\n",
    "# Define the circular aperture radius in arcseconds\n",
    "aperture_radius_arcsec = 0.6  # in arcseconds\n",
    "\n",
    "# Get pixel scale in arcseconds/pixel from CDELT1 (assuming square pixels)\n",
    "pixel_scale_deg = abs(cube.wcs.wcs.cdelt[0])  # degrees per pixel\n",
    "pixel_scale_arcsec = pixel_scale_deg * 3600   # convert to arcseconds/pixel\n",
    "\n",
    "# Convert aperture radius from arcseconds to pixels\n",
    "aperture_radius_pix = aperture_radius_arcsec / pixel_scale_arcsec\n",
    "\n",
    "# Extract the spectrum within the circular aperture\n",
    "spectrum = cube.aperture((x_pix, y_pix), aperture_radius_pix)\n",
    "\n",
    "# Plot the extracted spectrum\n",
    "plt.plot(spectrum.wave.coord(), spectrum.data)\n",
    "plt.xlabel('Wavelength [Å]')\n",
    "plt.ylabel('Flux [erg/s/cm²/Å]')\n",
    "plt.title(f'Spectrum for RA={ra}, DEC={dec} (Aperture Radius={aperture_radius_arcsec} arcsec)')\n",
    "plt.show()\n",
    "\n",
    "# Optionally, save the spectrum to a file\n",
    "spectrum.write('extracted_spectrum.fits')\n",
    "\n",
    "\n"
   ]
  },
  {
   "cell_type": "code",
   "execution_count": 31,
   "metadata": {},
   "outputs": [
    {
     "name": "stdout",
     "output_type": "stream",
     "text": [
      "RA: 150.09889815269983, Dec: 2.309368063400143\n"
     ]
    },
    {
     "name": "stderr",
     "output_type": "stream",
     "text": [
      "WARNING: UnitsWarning: '1e-20 erg/s/cm  2/Angstrom' contains multiple slashes, which is discouraged by the FITS standard [astropy.units.format.generic]\n"
     ]
    },
    {
     "ename": "AttributeError",
     "evalue": "'Cube' object has no attribute 'get_spec'",
     "output_type": "error",
     "traceback": [
      "\u001b[0;31m---------------------------------------------------------------------------\u001b[0m",
      "\u001b[0;31mAttributeError\u001b[0m                            Traceback (most recent call last)",
      "Cell \u001b[0;32mIn[31], line 29\u001b[0m\n\u001b[1;32m     26\u001b[0m aperture_radius \u001b[38;5;241m=\u001b[39m \u001b[38;5;241m0.6\u001b[39m \u001b[38;5;241m/\u001b[39m cube\u001b[38;5;241m.\u001b[39mget_step()[\u001b[38;5;241m0\u001b[39m]  \u001b[38;5;66;03m# Convert to pixel units\u001b[39;00m\n\u001b[1;32m     28\u001b[0m \u001b[38;5;66;03m# Extract the 1D spectrum using the circular aperture\u001b[39;00m\n\u001b[0;32m---> 29\u001b[0m spectrum \u001b[38;5;241m=\u001b[39m \u001b[43mcube\u001b[49m\u001b[38;5;241;43m.\u001b[39;49m\u001b[43mget_spec\u001b[49m(cube\u001b[38;5;241m.\u001b[39maperture((x_pix, y_pix), aperture_radius))\n\u001b[1;32m     31\u001b[0m \u001b[38;5;66;03m# Plot the spectrum (optional)\u001b[39;00m\n\u001b[1;32m     32\u001b[0m spectrum\u001b[38;5;241m.\u001b[39mplot()\n",
      "\u001b[0;31mAttributeError\u001b[0m: 'Cube' object has no attribute 'get_spec'"
     ]
    }
   ],
   "source": [
    "# Path to the MUSE data cube\n",
    "cube_file = '/Users/s2537809/MUSE/cube_26.fits'\n",
    "\n",
    "\n",
    "# Load the MUSE data cube\n",
    "cube = Cube(cube_file)\n",
    "\n",
    "\n",
    "\n",
    "\n",
    "\n",
    "# RA and Dec of the source (in degrees)\n",
    "ra = 150.09889815269983  \n",
    "dec = 2.309368063400143\n",
    "\n",
    "# Create a SkyCoord object for the source position\n",
    "source_coord = SkyCoord(ra=ra * u.deg, dec=dec * u.deg, frame='icrs')\n",
    "\n",
    "print(f\"RA: {source_coord.ra.deg}, Dec: {source_coord.dec.deg}\")\n",
    "\n",
    "# Convert the RA/Dec to pixel coordinates in the cube\n",
    "#pix_coords = cube.wcs.wcs_world2pix([[source_coord.ra.deg, source_coord.dec.deg]], 0)[0]\n",
    "x_pix, y_pix = int(pix_coords[0]), int(pix_coords[1])\n",
    "\n",
    "# Define the radius for the aperture (0.6 arcseconds)\n",
    "aperture_radius = 0.6 / cube.get_step()[0]  # Convert to pixel units\n",
    "\n",
    "# Extract the 1D spectrum using the circular aperture\n",
    "spectrum = cube.get_spec(cube.aperture((x_pix, y_pix), aperture_radius))\n",
    "\n",
    "# Plot the spectrum (optional)\n",
    "spectrum.plot()\n",
    "\n",
    "# Save the spectrum to a file (optional)\n",
    "#spectrum.write('outputs/extracted_spectrum.fits')\n",
    "\n",
    "# Alternatively, print the spectrum data\n",
    "print(spectrum.data)"
   ]
  },
  {
   "cell_type": "code",
   "execution_count": null,
   "metadata": {},
   "outputs": [],
   "source": []
  },
  {
   "cell_type": "code",
   "execution_count": 73,
   "metadata": {},
   "outputs": [],
   "source": [
    "class SpectrumExtractor:\n",
    "    def __init__(self, images, dec, ra):\n",
    "        self.images = images\n",
    "        self.dec = dec\n",
    "        self.ra = ra\n",
    "        self.spectra = {}\n",
    "\n",
    "def extract_spectras(self, cube, obj_mask='MASK_UNION', sky_mask='MASK_SKY',\n",
    "                    tags_to_try=('MUSE_WHITE', 'NB_LYALPHA',\n",
    "                                 'NB_HALPHA', 'NB_SUMOII3726'),\n",
    "                    skysub=True, psf=None, beta=None, lbda=None,\n",
    "                    apertures=None, unit_wave=u.angstrom):\n",
    "    \"\"\"Extract spectra from a data cube and normalize it by the PSF using a specific aperture.\"\"\"\n",
    "    \n",
    "    if obj_mask not in self.images:\n",
    "        raise ValueError(f'Key {obj_mask} not present in the images dictionary')\n",
    "\n",
    "    if skysub and sky_mask not in self.images:\n",
    "        raise ValueError(f'Key {sky_mask} not present in the images dictionary')\n",
    "\n",
    "    ima = self.images[obj_mask]\n",
    "\n",
    "    if ima.wcs.sameStep(cube.wcs):\n",
    "        size = ima.shape[0]\n",
    "        unit_size = None\n",
    "    else:\n",
    "        size = ima.wcs.get_step(unit=u.arcsec)[0] * ima.shape[0]\n",
    "        unit_size = u.arcsec\n",
    "\n",
    "    center = (self.dec, self.ra)\n",
    "    subcub = cube.subcube(center=center, size=size,\n",
    "                          unit_center=u.deg, unit_size=unit_size,\n",
    "                          lbda=lbda, unit_wave=unit_wave)\n",
    "    wcsref = subcub.wcs\n",
    "\n",
    "    if not ima.wcs.isEqual(wcsref):\n",
    "        ima = ima.resample(\n",
    "            newdim=subcub.shape[1:],\n",
    "            newstart=wcsref.get_start(unit=u.deg),\n",
    "            newstep=wcsref.get_step(unit=u.arcsec),\n",
    "            order=0, unit_start=u.deg, unit_step=u.arcsec)\n",
    "\n",
    "    object_mask = ima.data.data\n",
    "\n",
    "    if skysub:\n",
    "        skymask = self.images[sky_mask]\n",
    "        if not skymask.wcs.isEqual(wcsref):\n",
    "            skymask = skymask.resample(\n",
    "                newdim=subcub.shape[1:],\n",
    "                newstart=wcsref.get_start(unit=u.deg),\n",
    "                newstep=wcsref.get_step(unit=u.arcsec),\n",
    "                order=0, unit_start=u.deg, unit_step=u.arcsec)\n",
    "\n",
    "        # Get the sky spectrum and subtract it\n",
    "        self.spectra['MUSE_SKY'] = subcub.mean(weights=skymask.data.data, axis=(1, 2))\n",
    "        subcub = subcub - self.spectra['MUSE_SKY']\n",
    "        suffix = '_SKYSUB'\n",
    "    else:\n",
    "        suffix = ''\n",
    "\n",
    "    # No weighting\n",
    "    spec = (subcub * object_mask).sum(axis=(1, 2))\n",
    "    self.spectra['MUSE_TOT' + suffix] = spec\n",
    "\n",
    "    # 0.6 arcsecond aperture extraction\n",
    "    if apertures:\n",
    "        tmpim = Image(data=np.zeros_like(object_mask, dtype=bool),\n",
    "                      copy=False, wcs=ima.wcs)\n",
    "        for radius in apertures:\n",
    "            tmpim.mask_ellipse(center, radius, 0)\n",
    "            mask = object_mask.astype(bool) & tmpim.mask\n",
    "            spec = (subcub * mask).sum(axis=(1, 2))\n",
    "            self.spectra['MUSE_APER_%.1f%s' % (radius, suffix)] = spec\n",
    "            tmpim.unmask()\n",
    "\n",
    "    # PSF normalization\n",
    "    if psf is not None:\n",
    "        if len(psf.shape) == 3:\n",
    "            if not np.array_equal(psf.shape, subcub.shape):\n",
    "                raise ValueError('Incorrect dimensions for the PSF cube '\n",
    "                                 f'({psf.shape}) (it must be ({subcub.shape}))')\n",
    "        elif len(psf.shape) == 1:\n",
    "            psf = create_psf_cube(subcub.shape, psf, beta=beta, wcs=wcsref)\n",
    "\n",
    "        # Extract spectrum using the PSF and normalize it\n",
    "        spec_psf = compute_optimal_spectrum(subcub, object_mask, psf)\n",
    "        self.spectra['MUSE_PSF' + suffix] = spec_psf / spec_psf.max()  # Normalized\n",
    "\n",
    "        # Return the spectrum for plotting\n",
    "        return spec_psf / spec_psf.max()\n"
   ]
  },
  {
   "cell_type": "code",
   "execution_count": 72,
   "metadata": {},
   "outputs": [
    {
     "name": "stderr",
     "output_type": "stream",
     "text": [
      "\u001b[1M> \n",
      "\u001b[1A----- SExtractor 2.28.0 started on 2024-08-19 at 11:07:53 with 1 thread\n",
      "\n",
      "\u001b[1M> Setting catalog parameters\n",
      "\u001b[1A\u001b[1M> Reading detection filter\n",
      "\u001b[1A\u001b[1M> Initializing Neural Network\n",
      "\u001b[1A\u001b[1M> Reading Neural Network Weights\n",
      "\u001b[1A\u001b[1M> Initializing check-image(s)\n",
      "\u001b[1A\u001b[1M> Initializing catalog\n",
      "\u001b[1A\u001b[1M> Looking for 8621-MUSE_WHITE.fits\n",
      "\u001b[1A----- Measuring from: 8621-MUSE_WHITE.fits [1/1]\n",
      "      \"Unnamed\" / no ext. header / 25x25 / 8 bits (integers)\n",
      "Detection+Measurement image: \u001b[1M> Setting up background maps\n",
      "\u001b[1A\u001b[1M> Filtering background map(s)\n",
      "\u001b[1A\u001b[1M> Computing background d-map\n",
      "\u001b[1A\u001b[1M> Computing background-noise d-map\n",
      "\u001b[1A(M+D) Background: 0.00572298 RMS: 0.479928   / Threshold: 0.359946   \n",
      "\u001b[1M> Scanning image\n",
      "\u001b[1A\u001b[1M> Line:   25  Objects:        1 detected /        0 sextracted\n",
      "\u001b[1A\u001b[1M> Line:   25  Objects:        1 detected /        1 sextracted\n",
      "\u001b[1A      Objects: detected 1        / sextracted 1               \n",
      "\n",
      "\u001b[1M> Closing files\n",
      "\u001b[1A\u001b[1M> \n",
      "\u001b[1A> All done (in 0.0 s: 1559.8 lines/s , 62.4 detections/s)\n",
      "[DEBUG] Doing MUSE_WHITE\n",
      "[DEBUG] Image MUSE_WHITE has one useful objects\n"
     ]
    },
    {
     "name": "stdout",
     "output_type": "stream",
     "text": [
      "SExtractor version 2.28.0 (2023-03-11)\n",
      "KeysView(6 images: MUSE_WHITE SEG_MUSE_WHITE MASK_SKY MASK_UNION MASK_INTER UNION_MASK)\n"
     ]
    },
    {
     "ename": "TypeError",
     "evalue": "extract_spectras() missing 1 required positional argument: 'self'",
     "output_type": "error",
     "traceback": [
      "\u001b[0;31m---------------------------------------------------------------------------\u001b[0m",
      "\u001b[0;31mTypeError\u001b[0m                                 Traceback (most recent call last)",
      "Cell \u001b[0;32mIn[72], line 22\u001b[0m\n\u001b[1;32m     19\u001b[0m psf \u001b[38;5;241m/\u001b[39m\u001b[38;5;241m=\u001b[39m np\u001b[38;5;241m.\u001b[39msum(psf, axis\u001b[38;5;241m=\u001b[39m(\u001b[38;5;241m1\u001b[39m, \u001b[38;5;241m2\u001b[39m))[:, np\u001b[38;5;241m.\u001b[39mnewaxis, np\u001b[38;5;241m.\u001b[39mnewaxis]  \u001b[38;5;66;03m# Normalize PSF\u001b[39;00m\n\u001b[1;32m     21\u001b[0m \u001b[38;5;66;03m# Extract the spectrum with a 0.6 arcsecond aperture and normalized by the PSF\u001b[39;00m\n\u001b[0;32m---> 22\u001b[0m spectrum_psf \u001b[38;5;241m=\u001b[39m \u001b[43mextract_spectras\u001b[49m\u001b[43m(\u001b[49m\u001b[43mcube\u001b[49m\u001b[38;5;241;43m=\u001b[39;49m\u001b[43mcube\u001b[49m\u001b[43m,\u001b[49m\u001b[43m \u001b[49m\u001b[43mobj_mask\u001b[49m\u001b[38;5;241;43m=\u001b[39;49m\u001b[38;5;124;43m'\u001b[39;49m\u001b[38;5;124;43mUNION_MASK\u001b[39;49m\u001b[38;5;124;43m'\u001b[39;49m\u001b[43m,\u001b[49m\u001b[43m \u001b[49m\u001b[43msky_mask\u001b[49m\u001b[38;5;241;43m=\u001b[39;49m\u001b[43msky_mask\u001b[49m\u001b[43m,\u001b[49m\n\u001b[1;32m     23\u001b[0m \u001b[43m                                 \u001b[49m\u001b[43mapertures\u001b[49m\u001b[38;5;241;43m=\u001b[39;49m\u001b[43m[\u001b[49m\u001b[38;5;241;43m0.6\u001b[39;49m\u001b[43m]\u001b[49m\u001b[43m,\u001b[49m\u001b[43m \u001b[49m\u001b[43mpsf\u001b[49m\u001b[38;5;241;43m=\u001b[39;49m\u001b[43mpsf\u001b[49m\u001b[43m)\u001b[49m\n\u001b[1;32m     25\u001b[0m \u001b[38;5;66;03m# Plot the extracted spectrum\u001b[39;00m\n\u001b[1;32m     26\u001b[0m plt\u001b[38;5;241m.\u001b[39mfigure(figsize\u001b[38;5;241m=\u001b[39m(\u001b[38;5;241m10\u001b[39m, \u001b[38;5;241m6\u001b[39m))\n",
      "\u001b[0;31mTypeError\u001b[0m: extract_spectras() missing 1 required positional argument: 'self'"
     ]
    }
   ],
   "source": [
    "# Add segmentation images\n",
    "s.add_seg_images()\n",
    "\n",
    "# Print available segmentation tags\n",
    "print(s.images.keys())\n",
    "\n",
    "# Segmentation tags\n",
    "seg_tags = ['MUSE_WHITE', 'SEG_MUSE_WHITE']\n",
    "\n",
    "# Find the sky mask and union mask\n",
    "sky_mask = s.find_sky_mask(seg_tags)\n",
    "union_mask = s.find_union_mask(seg_tags)\n",
    "\n",
    "# If union_mask is not a key, assign it to a key\n",
    "s.images['UNION_MASK'] = union_mask\n",
    "\n",
    "# Define PSF and other parameters\n",
    "psf = np.random.rand(cube.shape[0], 50, 50).astype(np.float64)  # Example PSF\n",
    "psf /= np.sum(psf, axis=(1, 2))[:, np.newaxis, np.newaxis]  # Normalize PSF\n",
    "\n",
    "# Extract the spectrum with a 0.6 arcsecond aperture and normalized by the PSF\n",
    "spectrum_psf = extract_spectras(cube=cube, obj_mask='UNION_MASK', sky_mask=sky_mask,\n",
    "                                 apertures=[0.6], psf=psf)\n",
    "\n",
    "# Plot the extracted spectrum\n",
    "plt.figure(figsize=(10, 6))\n",
    "plt.plot(cube.wave.coord(), spectrum_psf, label='PSF Normalized Spectrum')\n",
    "plt.xlabel('Wavelength (Angstrom)')\n",
    "plt.ylabel('Normalized Flux')\n",
    "plt.title('Extracted Spectrum with PSF Normalization (0.6 arcsec aperture)')\n",
    "plt.legend()\n",
    "plt.show()\n",
    "\n"
   ]
  },
  {
   "cell_type": "code",
   "execution_count": null,
   "metadata": {},
   "outputs": [],
   "source": [
    "yy, xx = np.indices([5,5], dtype='float')  \n",
    "radius = ((yy-2)**2 + (xx-2)**2)**0.5  \n",
    "mask = radius <= 2  \n",
    "subcube = cube[:, 50:55, 60:65]  \n",
    "maskedsubcube = subcube.with_mask(mask)  \n",
    "spectrum = maskedsubcube.mean(axis=(1,2))  "
   ]
  },
  {
   "cell_type": "code",
   "execution_count": 108,
   "metadata": {},
   "outputs": [
    {
     "name": "stdout",
     "output_type": "stream",
     "text": [
      "94593\n",
      "4110\n"
     ]
    }
   ],
   "source": [
    "from astropy.table import Table\n",
    "\n",
    "# Define the file path\n",
    "file_path = '/Users/s2537809/Downloads/Photom+Photoz_PRIMER_COSMOS_f356w_v0p8_WithAuto.cat'\n",
    "\n",
    "# Load the catalog\n",
    "cat = Table.read(file_path, format='ascii')\n",
    "\n",
    "# Display the first few rows of the table\n",
    "\n",
    "\n",
    "print(len(cat))\n",
    "\n",
    "\n",
    "z6_cat = cat[(cat['zmed_all'] >= 5.5) &(cat['zmed_all'] <= 6.5)]\n",
    "\n",
    "print(len(z6_cat))"
   ]
  },
  {
   "cell_type": "code",
   "execution_count": 106,
   "metadata": {},
   "outputs": [
    {
     "data": {
      "text/html": [
       "<div><i>Table length=94593</i>\n",
       "<table id=\"table5780707456\" class=\"table-striped table-bordered table-condensed\">\n",
       "<thead><tr><th>id</th><th>x</th><th>y</th><th>ra</th><th>dec</th><th>f435w</th><th>f435w_err</th><th>f606w</th><th>f606w_err</th><th>f814w</th><th>f814w_err</th><th>f090w</th><th>f090w_err</th><th>f115w</th><th>f115w_err</th><th>f150w</th><th>f150w_err</th><th>f200w</th><th>f200w_err</th><th>f277w</th><th>f277w_err</th><th>f356w</th><th>f356w_err</th><th>f410m</th><th>f410m_err</th><th>f444w</th><th>f444w_err</th><th>zmed_all</th><th>chimed_all</th><th>chimed_pegase</th><th>zmed_pegase</th><th>zphot_bc03</th><th>chisq_bc03</th><th>zphot_pegase</th><th>chisq_pegase</th><th>zphot_mod3</th><th>chisq_mod3</th><th>zphot_mod4</th><th>chisq_mod4</th><th>zphot_pca</th><th>chisq_pca</th><th>flux_auto_f356w</th></tr></thead>\n",
       "<thead><tr><th>int64</th><th>float64</th><th>float64</th><th>float64</th><th>float64</th><th>float64</th><th>float64</th><th>float64</th><th>float64</th><th>float64</th><th>float64</th><th>float64</th><th>float64</th><th>float64</th><th>float64</th><th>float64</th><th>float64</th><th>float64</th><th>float64</th><th>float64</th><th>float64</th><th>float64</th><th>float64</th><th>float64</th><th>float64</th><th>float64</th><th>float64</th><th>float64</th><th>float64</th><th>float64</th><th>float64</th><th>float64</th><th>float64</th><th>float64</th><th>float64</th><th>float64</th><th>float64</th><th>float64</th><th>float64</th><th>float64</th><th>float64</th><th>float64</th></tr></thead>\n",
       "<tr><td>79</td><td>10892.4932</td><td>941.7943</td><td>150.14383199</td><td>2.1550667928</td><td>-99.0</td><td>-99.0</td><td>0.002923280848983582</td><td>0.0031114396683831224</td><td>0.002245138926102567</td><td>0.0038221158059218714</td><td>-0.006962759161528312</td><td>0.006307985966705138</td><td>-0.004866710618005929</td><td>0.0033526607169740625</td><td>-0.007285601910477345</td><td>0.0049240174426023135</td><td>-0.002221014807461637</td><td>0.0028340961982184546</td><td>-99.0</td><td>-99.0</td><td>-99.0</td><td>-99.0</td><td>-99.0</td><td>-99.0</td><td>-99.0</td><td>-99.0</td><td>0.32269999384880066</td><td>8.826169967651367</td><td>8.826169967651367</td><td>0.32280001044273376</td><td>0.3227</td><td>9.59106</td><td>0.3228</td><td>9.04645</td><td>0.3228</td><td>8.82617</td><td>6.7402</td><td>6.61706</td><td>0.07188525795936584</td><td>7.345889091491699</td><td>-0.007439024</td></tr>\n",
       "<tr><td>83</td><td>10967.9697</td><td>944.0066</td><td>150.14320258</td><td>2.1550852355</td><td>-99.0</td><td>-99.0</td><td>0.002957230007740253</td><td>0.003402115867460064</td><td>0.001707960117357055</td><td>0.003408241568619228</td><td>-0.01979742319394706</td><td>0.00989871159697353</td><td>-0.0077793867080219155</td><td>0.005075885736000007</td><td>0.008494220737213017</td><td>0.005475741714981744</td><td>0.003934809943334574</td><td>0.004143318364901475</td><td>-99.0</td><td>-99.0</td><td>-99.0</td><td>-99.0</td><td>-99.0</td><td>-99.0</td><td>-99.0</td><td>-99.0</td><td>9.858200073242188</td><td>7.577630043029785</td><td>7.591720104217529</td><td>9.733400344848633</td><td>9.8582</td><td>7.57763</td><td>9.7334</td><td>7.58363</td><td>9.7327</td><td>7.59172</td><td>9.9385</td><td>7.65329</td><td>9.912951469421387</td><td>-1.0</td><td>0.002386521</td></tr>\n",
       "<tr><td>94</td><td>10956.6885</td><td>945.4484</td><td>150.14329665</td><td>2.1550972494</td><td>-99.0</td><td>-99.0</td><td>0.003735161119485069</td><td>0.0033650633572224844</td><td>2.0506517603558223e-05</td><td>0.0034581402621587528</td><td>-0.010475292145722825</td><td>0.008163236285147474</td><td>0.007770121742932488</td><td>0.004959355664040454</td><td>-0.007473021389638276</td><td>0.00559374964046742</td><td>0.00803919841171361</td><td>0.003970979209547634</td><td>-99.0</td><td>-99.0</td><td>-99.0</td><td>-99.0</td><td>-99.0</td><td>-99.0</td><td>-99.0</td><td>-99.0</td><td>3.627000093460083</td><td>7.226830005645752</td><td>7.226830005645752</td><td>3.627000093460083</td><td>2.3435</td><td>7.25284</td><td>3.627</td><td>7.27581</td><td>2.3451</td><td>7.22683</td><td>12.0</td><td>7.13595</td><td>7.4087300300598145</td><td>6.850575923919678</td><td>-0.004165671</td></tr>\n",
       "<tr><td>106</td><td>10982.1592</td><td>950.4786</td><td>150.14308425</td><td>2.1551391698</td><td>-99.0</td><td>-99.0</td><td>0.002526885159082576</td><td>0.0032818273955949736</td><td>0.005549283599485558</td><td>0.0033413725985927518</td><td>0.022816244379223995</td><td>0.008036467367744597</td><td>0.021338277289682593</td><td>0.005371181107037979</td><td>-0.01440755244177724</td><td>0.00720377622088862</td><td>0.0008524808702485832</td><td>0.004071389179718363</td><td>-99.0</td><td>-99.0</td><td>-99.0</td><td>-99.0</td><td>-99.0</td><td>-99.0</td><td>-99.0</td><td>-99.0</td><td>0.8859000205993652</td><td>15.812299728393555</td><td>15.812299728393555</td><td>0.8845999836921692</td><td>0.8859</td><td>16.5197</td><td>0.8846</td><td>15.8123</td><td>0.8845</td><td>15.4717</td><td>0.8861</td><td>17.2064</td><td>1.5371423959732056</td><td>13.415436744689941</td><td>-0.00915495</td></tr>\n",
       "<tr><td>110</td><td>10906.7256</td><td>966.6401</td><td>150.14371331</td><td>2.1552738402</td><td>-99.0</td><td>-99.0</td><td>-0.0012873273719802825</td><td>0.003010098287654198</td><td>0.005975115883393173</td><td>0.003971562973677259</td><td>0.0001999220832547995</td><td>0.007181729274637908</td><td>0.00399037158238485</td><td>0.004818586109988942</td><td>0.00823803646148764</td><td>0.005481228493373029</td><td>-0.001784846134756173</td><td>0.0035048808510034627</td><td>0.24076013513513517</td><td>0.012038006756756758</td><td>0.31795298501214103</td><td>0.015897649250607052</td><td>0.7980361889184215</td><td>0.03990180944592108</td><td>0.238130509354799</td><td>0.011906525467739952</td><td>4.9944000244140625</td><td>323.3160095214844</td><td>330.6239929199219</td><td>4.9944000244140625</td><td>4.9982</td><td>323.316</td><td>4.9891</td><td>338.089</td><td>4.9944</td><td>330.624</td><td>5.4102</td><td>325.453</td><td>-1.0</td><td>-1.0</td><td>0.3171658</td></tr>\n",
       "<tr><td>113</td><td>11002.0039</td><td>963.9799</td><td>150.14291877</td><td>2.1552516813</td><td>-99.0</td><td>-99.0</td><td>-0.0008130155416140464</td><td>0.0032457951020367195</td><td>-0.005199984593537324</td><td>0.0034657544594620423</td><td>0.002742364832117181</td><td>0.008015143017079267</td><td>-0.0004424389235793242</td><td>0.005562448071726006</td><td>0.007113654820238948</td><td>0.006496320201792409</td><td>0.0004934370476072299</td><td>0.0037299162984426423</td><td>-99.0</td><td>-99.0</td><td>-99.0</td><td>-99.0</td><td>-99.0</td><td>-99.0</td><td>-99.0</td><td>-99.0</td><td>9.823200225830078</td><td>3.0952000617980957</td><td>3.1017799377441406</td><td>9.571200370788574</td><td>9.8232</td><td>3.0952</td><td>9.5712</td><td>3.09634</td><td>9.57</td><td>3.10178</td><td>9.9376</td><td>3.1437</td><td>9.912951469421387</td><td>-1.0</td><td>-0.002857414</td></tr>\n",
       "<tr><td>118</td><td>10942.083</td><td>958.9353</td><td>150.14341845</td><td>2.1552096378</td><td>-99.0</td><td>-99.0</td><td>-0.001600138509797531</td><td>0.003120967165478283</td><td>0.0003385887680188629</td><td>0.003778853166964756</td><td>-0.002547550418697326</td><td>0.008138192101245566</td><td>-0.004474642012925792</td><td>0.005330330850898685</td><td>-0.003011613582557948</td><td>0.0063598378732731015</td><td>-0.005003499193448318</td><td>0.00387454193010273</td><td>-99.0</td><td>-99.0</td><td>-99.0</td><td>-99.0</td><td>-99.0</td><td>-99.0</td><td>-99.0</td><td>-99.0</td><td>-99.0</td><td>10000000000.0</td><td>10000000000.0</td><td>-99.0</td><td>-99.0</td><td>10000000000.0</td><td>-99.0</td><td>10000000000.0</td><td>-99.0</td><td>10000000000.0</td><td>-99.0</td><td>10000000000.0</td><td>0.22747941315174103</td><td>2.9654884338378906</td><td>0.00329997</td></tr>\n",
       "<tr><td>122</td><td>10831.5781</td><td>1137.3781</td><td>150.14433999</td><td>2.1566966361</td><td>-99.0</td><td>-99.0</td><td>0.07436961746852974</td><td>0.003718480873426487</td><td>0.0991008687905257</td><td>0.004955043439526285</td><td>0.11854479118985431</td><td>0.006940863161852991</td><td>0.20636431333433533</td><td>0.010318215666716767</td><td>0.3849551629686726</td><td>0.01924775814843363</td><td>0.4928670844190759</td><td>0.024643354220953796</td><td>0.5763773786541645</td><td>0.028818868932708228</td><td>0.6170994515615842</td><td>0.03085497257807921</td><td>0.6605908812103864</td><td>0.03302954406051933</td><td>0.7066497314509845</td><td>0.03533248657254923</td><td>2.1400601863861084</td><td>0.9788399934768677</td><td>1.8582600355148315</td><td>2.168299913406372</td><td>2.1246</td><td>0.97884</td><td>2.1678</td><td>1.73349</td><td>2.1683</td><td>2.04256</td><td>2.2128</td><td>1.85826</td><td>2.1400601863861084</td><td>0.8761271834373474</td><td>1.79098</td></tr>\n",
       "<tr><td>123</td><td>10909.7207</td><td>958.2358</td><td>150.14368833</td><td>2.1552038056</td><td>-99.0</td><td>-99.0</td><td>-0.00048001171222552646</td><td>0.002901957800033124</td><td>0.0060636139542361075</td><td>0.0037585214677535637</td><td>-0.006177949056248149</td><td>0.007541472705307516</td><td>-0.003868051703171328</td><td>0.004959355664040454</td><td>0.00413423718548698</td><td>0.005636391113428749</td><td>-0.0035938650370186537</td><td>0.0035116586701834374</td><td>-99.0</td><td>-99.0</td><td>-99.0</td><td>-99.0</td><td>-99.0</td><td>-99.0</td><td>-99.0</td><td>-99.0</td><td>1.4764000177383423</td><td>4.114099979400635</td><td>4.114099979400635</td><td>1.4772000312805176</td><td>1.4764</td><td>3.99994</td><td>1.4773</td><td>4.1141</td><td>1.4753</td><td>4.0017</td><td>1.4772</td><td>7.99277</td><td>0.4898166060447693</td><td>4.668881416320801</td><td>0.00998821</td></tr>\n",
       "<tr><td>124</td><td>10914.6016</td><td>956.1469</td><td>150.14364762</td><td>2.1551863986</td><td>-99.0</td><td>-99.0</td><td>0.002954106408115044</td><td>0.0029423005737589628</td><td>0.002366222670274905</td><td>0.003529458831687887</td><td>0.010859006031395568</td><td>0.00732971563555247</td><td>-0.013193029499774548</td><td>0.006596514749887274</td><td>0.0061117928618620275</td><td>0.005578268572946663</td><td>-0.003756787442610745</td><td>0.003505402953898128</td><td>-99.0</td><td>-99.0</td><td>-99.0</td><td>-99.0</td><td>-99.0</td><td>-99.0</td><td>-99.0</td><td>-99.0</td><td>1.473099946975708</td><td>7.992129802703857</td><td>7.955430030822754</td><td>1.473099946975708</td><td>1.4775</td><td>7.99213</td><td>1.4868</td><td>7.95543</td><td>1.4731</td><td>7.9338</td><td>0.4147</td><td>9.10627</td><td>0.9785624146461487</td><td>8.45163345336914</td><td>-0.001539115</td></tr>\n",
       "<tr><td>...</td><td>...</td><td>...</td><td>...</td><td>...</td><td>...</td><td>...</td><td>...</td><td>...</td><td>...</td><td>...</td><td>...</td><td>...</td><td>...</td><td>...</td><td>...</td><td>...</td><td>...</td><td>...</td><td>...</td><td>...</td><td>...</td><td>...</td><td>...</td><td>...</td><td>...</td><td>...</td><td>...</td><td>...</td><td>...</td><td>...</td><td>...</td><td>...</td><td>...</td><td>...</td><td>...</td><td>...</td><td>...</td><td>...</td><td>...</td><td>...</td><td>...</td></tr>\n",
       "<tr><td>102983</td><td>10229.3105</td><td>41616.6953</td><td>150.14936796</td><td>2.4940232164</td><td>-0.0010677279211956522</td><td>0.004471216058681512</td><td>-99.0</td><td>-99.0</td><td>-0.009243639475376453</td><td>0.007442381252101184</td><td>-0.002271061754489889</td><td>0.006920259915601064</td><td>-0.004843855124543976</td><td>0.008697193852750749</td><td>0.004771614339591478</td><td>0.005605023923819065</td><td>-0.003987343342846506</td><td>0.004514264444354554</td><td>-99.0</td><td>-99.0</td><td>-99.0</td><td>-99.0</td><td>-99.0</td><td>-99.0</td><td>-99.0</td><td>-99.0</td><td>-99.0</td><td>10000000000.0</td><td>10000000000.0</td><td>-99.0</td><td>-99.0</td><td>10000000000.0</td><td>-99.0</td><td>10000000000.0</td><td>-99.0</td><td>10000000000.0</td><td>-99.0</td><td>10000000000.0</td><td>2.2219913005828857</td><td>3.522274971008301</td><td>0.0005243443</td></tr>\n",
       "<tr><td>102987</td><td>10447.6738</td><td>41626.1367</td><td>150.14754655</td><td>2.4941019018</td><td>-0.004281747961956522</td><td>0.0056966325394024785</td><td>-99.0</td><td>-99.0</td><td>0.0009356627793258668</td><td>0.006557611166114735</td><td>0.016582272005169766</td><td>0.008233068334650798</td><td>-0.004104106945222512</td><td>0.00642256658528119</td><td>0.0051147239580465785</td><td>0.004608665837918038</td><td>0.0005190000827232493</td><td>0.0035446770653056875</td><td>0.0013686331356867073</td><td>0.002843441922165473</td><td>0.0010706595913924477</td><td>0.0025551932062299375</td><td>-0.009139267021059088</td><td>0.006562323056288299</td><td>-0.005969554536633365</td><td>0.0059221775141761026</td><td>0.9777742624282837</td><td>8.968720436096191</td><td>9.173379898071289</td><td>4.101600170135498</td><td>0.4222</td><td>8.96872</td><td>4.1016</td><td>9.17338</td><td>4.1897</td><td>9.09424</td><td>0.5211</td><td>9.25055</td><td>0.9777742624282837</td><td>7.984940052032471</td><td>0.002090365</td></tr>\n",
       "<tr><td>102991</td><td>10407.9834</td><td>41633.2344</td><td>150.14787762</td><td>2.4941610569</td><td>0.011858019701086957</td><td>0.005039590603943652</td><td>-99.0</td><td>-99.0</td><td>0.00466720466480896</td><td>0.006867373832550042</td><td>-0.00620133922561189</td><td>0.008357944697977022</td><td>0.005151289846557449</td><td>0.006284669925931022</td><td>-0.004615279001266311</td><td>0.004943709954161405</td><td>0.00266225958555652</td><td>0.0038479009966174197</td><td>-0.00276234555984556</td><td>0.0030556050497752836</td><td>0.0059590858661977735</td><td>0.0023103792887260474</td><td>0.0026271110202412593</td><td>0.006070494942388605</td><td>0.004949084678356179</td><td>0.005820110700274809</td><td>4.826099872589111</td><td>10.014300346374512</td><td>10.014300346374512</td><td>4.826099872589111</td><td>4.8299</td><td>10.0135</td><td>4.8261</td><td>10.0143</td><td>4.8227</td><td>4.42352</td><td>7.257</td><td>10.8401</td><td>2.4697723388671875</td><td>10.071724891662598</td><td>0.007963032</td></tr>\n",
       "<tr><td>102992</td><td>10362.959</td><td>41650.5898</td><td>150.14825318</td><td>2.4943056884</td><td>0.003584286684782609</td><td>0.004735725450537792</td><td>-99.0</td><td>-99.0</td><td>0.0066720670783988</td><td>0.006579012434552524</td><td>0.0007502346589838174</td><td>0.008269569032037329</td><td>-0.004919723106562641</td><td>0.006734242162898432</td><td>-0.0005688362674117713</td><td>0.0053469521526786565</td><td>0.0012608894817388427</td><td>0.004074178074784986</td><td>-99.0</td><td>-99.0</td><td>-99.0</td><td>-99.0</td><td>-99.0</td><td>-99.0</td><td>-99.0</td><td>-99.0</td><td>0.25</td><td>1.3444000482559204</td><td>1.3444000482559204</td><td>0.25</td><td>0.25</td><td>1.53873</td><td>0.25</td><td>1.3444</td><td>0.2593</td><td>1.22874</td><td>0.25</td><td>1.53287</td><td>0.4885711371898651</td><td>1.2494558095932007</td><td>-0.001268255</td></tr>\n",
       "<tr><td>102995</td><td>10418.0879</td><td>41647.3164</td><td>150.14779334</td><td>2.4942783971</td><td>0.005666569972826087</td><td>0.005646918544162638</td><td>-99.0</td><td>-99.0</td><td>-0.003349807419216548</td><td>0.006609006632270231</td><td>-0.015113431971781685</td><td>0.007950312310875663</td><td>0.01330356142484321</td><td>0.006092624039707437</td><td>0.0001616451715025051</td><td>0.0046191591467711155</td><td>0.00589112379534268</td><td>0.0034332151464011415</td><td>0.02834971042471043</td><td>0.002871800566952894</td><td>0.030600843590387675</td><td>0.0019674769436409424</td><td>0.06843276426088733</td><td>0.005919901968207011</td><td>0.020615288160610073</td><td>0.004562808781872738</td><td>5.081900119781494</td><td>43.68439865112305</td><td>43.68439865112305</td><td>5.081900119781494</td><td>5.0799</td><td>42.1639</td><td>5.0819</td><td>43.6844</td><td>5.0876</td><td>41.2477</td><td>5.0749</td><td>46.4326</td><td>6.907614707946777</td><td>46.92381286621094</td><td>0.03042371</td></tr>\n",
       "<tr><td>103000</td><td>10417.21</td><td>41663.1523</td><td>150.14780066</td><td>2.4944103858</td><td>0.0008773771059782609</td><td>0.005621048354868137</td><td>-99.0</td><td>-99.0</td><td>-0.007625533867424039</td><td>0.006442852990229539</td><td>-0.008215067718570775</td><td>0.008000597925530812</td><td>0.0032607604492601145</td><td>0.005360970247138118</td><td>-0.001998355860815945</td><td>0.00427468685149786</td><td>0.0059392966455722365</td><td>0.0032579817709537046</td><td>-99.0</td><td>-99.0</td><td>-99.0</td><td>-99.0</td><td>-99.0</td><td>-99.0</td><td>-99.0</td><td>-99.0</td><td>2.346299886703491</td><td>3.0738298892974854</td><td>3.0738298892974854</td><td>2.346299886703491</td><td>2.3422</td><td>3.10844</td><td>2.3463</td><td>3.1193</td><td>2.3435</td><td>3.06941</td><td>12.0</td><td>3.07383</td><td>7.414157390594482</td><td>3.067807197570801</td><td>-0.003918603</td></tr>\n",
       "<tr><td>103011</td><td>10301.665</td><td>41643.6445</td><td>150.14876444</td><td>2.4942477847</td><td>0.001421609714673913</td><td>0.004532493615262177</td><td>-99.0</td><td>-99.0</td><td>-0.0031083251835378597</td><td>0.007139889988591761</td><td>0.01760416947144511</td><td>0.0076125731096826285</td><td>-0.006530668014811373</td><td>0.00715404254121083</td><td>0.009287675150030284</td><td>0.005486861777889981</td><td>0.001782616743185672</td><td>0.00457854500462403</td><td>-99.0</td><td>-99.0</td><td>-99.0</td><td>-99.0</td><td>-99.0</td><td>-99.0</td><td>-99.0</td><td>-99.0</td><td>0.48330000042915344</td><td>6.8236799240112305</td><td>6.953949928283691</td><td>0.4823000133037567</td><td>0.4833</td><td>6.82368</td><td>0.4823</td><td>6.95395</td><td>0.482</td><td>6.83043</td><td>0.4823</td><td>7.00116</td><td>0.9795063734054565</td><td>5.711339950561523</td><td>-0.0002545702</td></tr>\n",
       "<tr><td>103013</td><td>10469.3779</td><td>41653.4727</td><td>150.14736551</td><td>2.4943297178</td><td>0.009718292119565219</td><td>0.005859472062730796</td><td>-99.0</td><td>-99.0</td><td>0.006892413991747495</td><td>0.00652104313807217</td><td>0.00971419834944398</td><td>0.007737731090125106</td><td>-0.007865557749327066</td><td>0.00549246202484069</td><td>-0.0026084044486043055</td><td>0.0034880683505030905</td><td>-0.00838432704636638</td><td>0.00419216352318319</td><td>-99.0</td><td>-99.0</td><td>-99.0</td><td>-99.0</td><td>-99.0</td><td>-99.0</td><td>-99.0</td><td>-99.0</td><td>7.180099964141846</td><td>5.2494401931762695</td><td>5.2494401931762695</td><td>7.180099964141846</td><td>7.2249</td><td>5.23575</td><td>7.2248</td><td>5.27344</td><td>7.1773</td><td>2.48104</td><td>7.1801</td><td>5.24944</td><td>0.9769860506057739</td><td>11.65102767944336</td><td>-0.002372333</td></tr>\n",
       "<tr><td>103016</td><td>10321.0225</td><td>41652.5547</td><td>150.14860298</td><td>2.4943220322</td><td>0.005167169836956522</td><td>0.004528501219460649</td><td>-99.0</td><td>-99.0</td><td>0.006513334628369326</td><td>0.007022859983549942</td><td>-0.008565348757370956</td><td>0.007738335328314979</td><td>0.02355770833617992</td><td>0.007356446597295067</td><td>0.0136369886582613</td><td>0.005620662155446305</td><td>-0.0024877631633370557</td><td>0.004786101547898196</td><td>-99.0</td><td>-99.0</td><td>-99.0</td><td>-99.0</td><td>-99.0</td><td>-99.0</td><td>-99.0</td><td>-99.0</td><td>1.475000023841858</td><td>12.02869987487793</td><td>12.130900382995605</td><td>1.475000023841858</td><td>1.4792</td><td>12.0287</td><td>1.4419</td><td>12.1309</td><td>1.4766</td><td>11.1789</td><td>1.475</td><td>12.5493</td><td>1.104788064956665</td><td>7.784885883331299</td><td>0.003765536</td></tr>\n",
       "<tr><td>103026</td><td>10421.8809</td><td>41689.4414</td><td>150.14776171</td><td>2.4946294593</td><td>0.006417912024456522</td><td>0.005437552109054985</td><td>-99.0</td><td>-99.0</td><td>-0.0026216018702105996</td><td>0.006353586564873872</td><td>0.002977710425698053</td><td>0.008702779740180832</td><td>0.006207763332285789</td><td>0.005655008681140967</td><td>0.015167700132136763</td><td>0.0038703067093322015</td><td>0.015533761426148818</td><td>0.0032553827333802274</td><td>-99.0</td><td>-99.0</td><td>-99.0</td><td>-99.0</td><td>-99.0</td><td>-99.0</td><td>-99.0</td><td>-99.0</td><td>2.2109999656677246</td><td>1.4603899717330933</td><td>1.4603899717330933</td><td>2.2109999656677246</td><td>2.21</td><td>1.54029</td><td>2.211</td><td>1.53239</td><td>8.6137</td><td>0.287324</td><td>2.2045</td><td>1.46039</td><td>2.27152419090271</td><td>0.8897483348846436</td><td>-0.009438212</td></tr>\n",
       "</table></div>"
      ],
      "text/plain": [
       "<Table length=94593>\n",
       "  id       x          y      ...     chisq_pca      flux_auto_f356w\n",
       "int64   float64    float64   ...      float64           float64    \n",
       "------ ---------- ---------- ... ------------------ ---------------\n",
       "    79 10892.4932   941.7943 ...  7.345889091491699    -0.007439024\n",
       "    83 10967.9697   944.0066 ...               -1.0     0.002386521\n",
       "    94 10956.6885   945.4484 ...  6.850575923919678    -0.004165671\n",
       "   106 10982.1592   950.4786 ... 13.415436744689941     -0.00915495\n",
       "   110 10906.7256   966.6401 ...               -1.0       0.3171658\n",
       "   113 11002.0039   963.9799 ...               -1.0    -0.002857414\n",
       "   118  10942.083   958.9353 ... 2.9654884338378906      0.00329997\n",
       "   122 10831.5781  1137.3781 ... 0.8761271834373474         1.79098\n",
       "   123 10909.7207   958.2358 ...  4.668881416320801      0.00998821\n",
       "   124 10914.6016   956.1469 ...   8.45163345336914    -0.001539115\n",
       "   ...        ...        ... ...                ...             ...\n",
       "102983 10229.3105 41616.6953 ...  3.522274971008301    0.0005243443\n",
       "102987 10447.6738 41626.1367 ...  7.984940052032471     0.002090365\n",
       "102991 10407.9834 41633.2344 ... 10.071724891662598     0.007963032\n",
       "102992  10362.959 41650.5898 ... 1.2494558095932007    -0.001268255\n",
       "102995 10418.0879 41647.3164 ...  46.92381286621094      0.03042371\n",
       "103000   10417.21 41663.1523 ...  3.067807197570801    -0.003918603\n",
       "103011  10301.665 41643.6445 ...  5.711339950561523   -0.0002545702\n",
       "103013 10469.3779 41653.4727 ...  11.65102767944336    -0.002372333\n",
       "103016 10321.0225 41652.5547 ...  7.784885883331299     0.003765536\n",
       "103026 10421.8809 41689.4414 ... 0.8897483348846436    -0.009438212"
      ]
     },
     "execution_count": 106,
     "metadata": {},
     "output_type": "execute_result"
    }
   ],
   "source": [
    "cat"
   ]
  },
  {
   "cell_type": "code",
   "execution_count": null,
   "metadata": {},
   "outputs": [],
   "source": [
    "import numpy as np\n",
    "import matplotlib.pyplot as plt\n",
    "import astropy.units as u\n",
    "from astropy.io import fits\n",
    "from astropy.wcs import WCS\n",
    "from mpdaf.obj import Spectrum, Cube\n",
    "\n",
    "cube_no = '26'\n",
    "match = 'Primer (extra z cut)'\n",
    "\n",
    "# Specify the coordinates of the source (in RA and Dec)\n",
    "ra_center = 150.10522574429797  # Replace with the actual RA in degrees\n",
    "dec_center = 2.313908771623179  # Replace with the actual Dec in degrees\n",
    "cat2_label = '33'\n",
    "\n",
    "# Specify the aperture radius (in arcseconds)\n",
    "aperture_radius_arcsec = 0.6 \n",
    "\n",
    "# Load the MUSE data cube using mpdaf\n",
    "filename = f'/Users/s2537809/MUSE/cube_{cube_no}.fits'\n",
    "cube = Cube(filename)\n",
    "\n",
    "with fits.open(filename) as hdulist:\n",
    "    header = hdulist[0].header\n",
    "\n",
    "# Extract WCS information\n",
    "im_wcs = WCS(header)\n",
    "\n",
    "# Use the middle wavelength value of the cube for the 3rd dimension\n",
    "wavelength_center = cube.wave.coord()\n",
    "\n",
    "# Convert RA, Dec, and wavelength to pixel coordinates\n",
    "pixel_coords = im_wcs.wcs_world2pix(ra_center, dec_center, wavelength_center, 0)\n",
    "\n",
    "x_center = int(pixel_coords[0][0])\n",
    "y_center = int(pixel_coords[1][0])"
   ]
  }
 ],
 "metadata": {
  "kernelspec": {
   "display_name": "py3.9",
   "language": "python",
   "name": "python3"
  },
  "language_info": {
   "codemirror_mode": {
    "name": "ipython",
    "version": 3
   },
   "file_extension": ".py",
   "mimetype": "text/x-python",
   "name": "python",
   "nbconvert_exporter": "python",
   "pygments_lexer": "ipython3",
   "version": "3.9.7"
  }
 },
 "nbformat": 4,
 "nbformat_minor": 2
}
